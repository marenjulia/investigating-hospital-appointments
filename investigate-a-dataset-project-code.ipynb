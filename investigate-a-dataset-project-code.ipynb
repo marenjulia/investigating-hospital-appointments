{
 "cells": [
  {
   "cell_type": "markdown",
   "metadata": {},
   "source": [
    "# Project: Investigating No-Show Medical Appointments in Brazil\n",
    "\n",
    "## Table of Contents\n",
    "<ul>\n",
    "<li><a href=\"#intro\">Introduction</a></li>\n",
    "<li><a href=\"#wrangling\">Data Wrangling</a></li>\n",
    "<li><a href=\"#eda\">Exploratory Data Analysis</a></li>\n",
    "<li><a href=\"#conclusions\">Conclusions</a></li>\n",
    "</ul>"
   ]
  },
  {
   "cell_type": "markdown",
   "metadata": {},
   "source": [
    "<a id='intro'></a>\n",
    "## Introduction\n",
    "This report investigates a dataset of information from 100k medical appointments in Brazil. Each of the 110.527 rows includes 14 characteristics about the patient, of which the characteristic in the last column indicates whether or not patients show up for their appointment. The aim of this report is to evaluate a range of these characteristics, and analyze if some of those are connected to higher or lower no-show rate for patients at their appointments. \n",
    "\n",
    "The dependent variable in this dataset is *No-show*, indicating whether (\"Yes\") or not (\"No\") a patient didn't show for his appointment. The independent variables are:\n",
    "- *PatientId* (patient identifier), \n",
    "- *AppointmentID* (appointment identifier),\n",
    "- *Gender*,\n",
    "- *ScheduledDay* (when the appointment was scheduled),\n",
    "- *AppointmentDay* (scheduled day of the appointment),\n",
    "- *Age*,\n",
    "- *Neighborhood* (location of the hospital) \n",
    "- *Scholarship* (whether or not the patient is enrolled in Brasilian welfareprogram Bolsa Família),\n",
    "- *Hipertension*, *Diabetes*, and *Alcoholism* (whether or not the patient is affected by this condition),\n",
    "- *Handcap* (how many disabilities a patient has),\n",
    "- *SMS_received* (whether the patient was reminded of the appointment via SMS or not).\n",
    "\n",
    "Based on the overall question of finding factors that show differences in the proportion of patients showing for their scheduled appointment, the following research questions are posed: \n",
    "<ol>\n",
    "    <li>Are <a href='#RQ1'>patients with healthcare scholarships</a> more, less, or equally likely to show up to their appointment than those without?</li>\n",
    "    <li>Are <a href='#RQ2'>SMS notified patients</a> more, less, or equally likely to show up to their appointment than non-recipients?</li>\n",
    "    <li>Are <a href='#RQ3'>patients with a shorter waiting time</a> more, less, or equally likely to show up to their appointment than the ones with longer waiting time?</li>\n",
    "</ol>"
   ]
  },
  {
   "cell_type": "code",
   "execution_count": 49,
   "metadata": {},
   "outputs": [],
   "source": [
    "# importing pandas and numpy to load, wrangle and analyze the data\n",
    "# importing matplotlib and seaborn to visualize the data.\n",
    "import numpy as np\n",
    "import pandas as pd\n",
    "import seaborn as sns\n",
    "import matplotlib.pyplot as plt\n",
    "%matplotlib inline"
   ]
  },
  {
   "cell_type": "markdown",
   "metadata": {},
   "source": [
    "<a id='wrangling'></a>\n",
    "## Data Wrangling\n",
    "As a first step, \n",
    "\n",
    "<ul>\n",
    "    <li>the data is loaded,</li>\n",
    "    <li>its general properties are inspected,</li>\n",
    "    <li>it is checked for cleanliness,</li>\n",
    "    <li>and the dataset is trimmed and cleaned for analysis.</li> \n",
    "</ul>\n",
    "\n",
    "### General Properties"
   ]
  },
  {
   "cell_type": "code",
   "execution_count": 50,
   "metadata": {
    "scrolled": true
   },
   "outputs": [
    {
     "name": "stdout",
     "output_type": "stream",
     "text": [
      "The dataset has 110527 rows and 14 columns.\n"
     ]
    }
   ],
   "source": [
    "# Loading the dataset\n",
    "df = pd.read_csv('noshowappointments-kagglev2-may-2016.csv')\n",
    "# Shape of the dataset\n",
    "print(\"The dataset has {} rows and {} columns.\".format(df.shape[0], df.shape[1]))"
   ]
  },
  {
   "cell_type": "markdown",
   "metadata": {},
   "source": [
    "After inspecting the shape of the dataset, data types and number of missing values per column are investigated. "
   ]
  },
  {
   "cell_type": "code",
   "execution_count": 121,
   "metadata": {},
   "outputs": [
    {
     "name": "stdout",
     "output_type": "stream",
     "text": [
      "<class 'pandas.core.frame.DataFrame'>\n",
      "Int64Index: 110526 entries, 0 to 110526\n",
      "Data columns (total 17 columns):\n",
      " #   Column           Non-Null Count   Dtype         \n",
      "---  ------           --------------   -----         \n",
      " 0   patient_id       110526 non-null  int64         \n",
      " 1   appointment_id   110526 non-null  int64         \n",
      " 2   gender           110526 non-null  object        \n",
      " 3   scheduled_day    110526 non-null  datetime64[ns]\n",
      " 4   appointment_day  110526 non-null  datetime64[ns]\n",
      " 5   age              110526 non-null  int64         \n",
      " 6   neighbourhood    110526 non-null  object        \n",
      " 7   scholarship      110526 non-null  int64         \n",
      " 8   hypertension     110526 non-null  int64         \n",
      " 9   diabetes         110526 non-null  int64         \n",
      " 10  alcoholism       110526 non-null  int64         \n",
      " 11  handicap         110526 non-null  int64         \n",
      " 12  sms_received     110526 non-null  int64         \n",
      " 13  no_show          110526 non-null  object        \n",
      " 14  age_group        110526 non-null  category      \n",
      " 15  waiting_days     110526 non-null  int64         \n",
      " 16  waiting_time     110526 non-null  category      \n",
      "dtypes: category(2), datetime64[ns](2), int64(10), object(3)\n",
      "memory usage: 18.7+ MB\n"
     ]
    }
   ],
   "source": [
    "# Datatypes\n",
    "df.info()"
   ]
  },
  {
   "cell_type": "code",
   "execution_count": 52,
   "metadata": {
    "scrolled": true
   },
   "outputs": [
    {
     "data": {
      "text/html": [
       "<div>\n",
       "<style scoped>\n",
       "    .dataframe tbody tr th:only-of-type {\n",
       "        vertical-align: middle;\n",
       "    }\n",
       "\n",
       "    .dataframe tbody tr th {\n",
       "        vertical-align: top;\n",
       "    }\n",
       "\n",
       "    .dataframe thead th {\n",
       "        text-align: right;\n",
       "    }\n",
       "</style>\n",
       "<table border=\"1\" class=\"dataframe\">\n",
       "  <thead>\n",
       "    <tr style=\"text-align: right;\">\n",
       "      <th></th>\n",
       "      <th>PatientId</th>\n",
       "      <th>AppointmentID</th>\n",
       "      <th>Gender</th>\n",
       "      <th>ScheduledDay</th>\n",
       "      <th>AppointmentDay</th>\n",
       "      <th>Age</th>\n",
       "      <th>Neighbourhood</th>\n",
       "      <th>Scholarship</th>\n",
       "      <th>Hipertension</th>\n",
       "      <th>Diabetes</th>\n",
       "      <th>Alcoholism</th>\n",
       "      <th>Handcap</th>\n",
       "      <th>SMS_received</th>\n",
       "      <th>No-show</th>\n",
       "    </tr>\n",
       "  </thead>\n",
       "  <tbody>\n",
       "    <tr>\n",
       "      <th>0</th>\n",
       "      <td>2.987250e+13</td>\n",
       "      <td>5642903</td>\n",
       "      <td>F</td>\n",
       "      <td>2016-04-29T18:38:08Z</td>\n",
       "      <td>2016-04-29T00:00:00Z</td>\n",
       "      <td>62</td>\n",
       "      <td>JARDIM DA PENHA</td>\n",
       "      <td>0</td>\n",
       "      <td>1</td>\n",
       "      <td>0</td>\n",
       "      <td>0</td>\n",
       "      <td>0</td>\n",
       "      <td>0</td>\n",
       "      <td>No</td>\n",
       "    </tr>\n",
       "    <tr>\n",
       "      <th>1</th>\n",
       "      <td>5.589978e+14</td>\n",
       "      <td>5642503</td>\n",
       "      <td>M</td>\n",
       "      <td>2016-04-29T16:08:27Z</td>\n",
       "      <td>2016-04-29T00:00:00Z</td>\n",
       "      <td>56</td>\n",
       "      <td>JARDIM DA PENHA</td>\n",
       "      <td>0</td>\n",
       "      <td>0</td>\n",
       "      <td>0</td>\n",
       "      <td>0</td>\n",
       "      <td>0</td>\n",
       "      <td>0</td>\n",
       "      <td>No</td>\n",
       "    </tr>\n",
       "    <tr>\n",
       "      <th>2</th>\n",
       "      <td>4.262962e+12</td>\n",
       "      <td>5642549</td>\n",
       "      <td>F</td>\n",
       "      <td>2016-04-29T16:19:04Z</td>\n",
       "      <td>2016-04-29T00:00:00Z</td>\n",
       "      <td>62</td>\n",
       "      <td>MATA DA PRAIA</td>\n",
       "      <td>0</td>\n",
       "      <td>0</td>\n",
       "      <td>0</td>\n",
       "      <td>0</td>\n",
       "      <td>0</td>\n",
       "      <td>0</td>\n",
       "      <td>No</td>\n",
       "    </tr>\n",
       "    <tr>\n",
       "      <th>3</th>\n",
       "      <td>8.679512e+11</td>\n",
       "      <td>5642828</td>\n",
       "      <td>F</td>\n",
       "      <td>2016-04-29T17:29:31Z</td>\n",
       "      <td>2016-04-29T00:00:00Z</td>\n",
       "      <td>8</td>\n",
       "      <td>PONTAL DE CAMBURI</td>\n",
       "      <td>0</td>\n",
       "      <td>0</td>\n",
       "      <td>0</td>\n",
       "      <td>0</td>\n",
       "      <td>0</td>\n",
       "      <td>0</td>\n",
       "      <td>No</td>\n",
       "    </tr>\n",
       "    <tr>\n",
       "      <th>4</th>\n",
       "      <td>8.841186e+12</td>\n",
       "      <td>5642494</td>\n",
       "      <td>F</td>\n",
       "      <td>2016-04-29T16:07:23Z</td>\n",
       "      <td>2016-04-29T00:00:00Z</td>\n",
       "      <td>56</td>\n",
       "      <td>JARDIM DA PENHA</td>\n",
       "      <td>0</td>\n",
       "      <td>1</td>\n",
       "      <td>1</td>\n",
       "      <td>0</td>\n",
       "      <td>0</td>\n",
       "      <td>0</td>\n",
       "      <td>No</td>\n",
       "    </tr>\n",
       "  </tbody>\n",
       "</table>\n",
       "</div>"
      ],
      "text/plain": [
       "      PatientId  AppointmentID Gender          ScheduledDay  \\\n",
       "0  2.987250e+13        5642903      F  2016-04-29T18:38:08Z   \n",
       "1  5.589978e+14        5642503      M  2016-04-29T16:08:27Z   \n",
       "2  4.262962e+12        5642549      F  2016-04-29T16:19:04Z   \n",
       "3  8.679512e+11        5642828      F  2016-04-29T17:29:31Z   \n",
       "4  8.841186e+12        5642494      F  2016-04-29T16:07:23Z   \n",
       "\n",
       "         AppointmentDay  Age      Neighbourhood  Scholarship  Hipertension  \\\n",
       "0  2016-04-29T00:00:00Z   62    JARDIM DA PENHA            0             1   \n",
       "1  2016-04-29T00:00:00Z   56    JARDIM DA PENHA            0             0   \n",
       "2  2016-04-29T00:00:00Z   62      MATA DA PRAIA            0             0   \n",
       "3  2016-04-29T00:00:00Z    8  PONTAL DE CAMBURI            0             0   \n",
       "4  2016-04-29T00:00:00Z   56    JARDIM DA PENHA            0             1   \n",
       "\n",
       "   Diabetes  Alcoholism  Handcap  SMS_received No-show  \n",
       "0         0           0        0             0      No  \n",
       "1         0           0        0             0      No  \n",
       "2         0           0        0             0      No  \n",
       "3         0           0        0             0      No  \n",
       "4         1           0        0             0      No  "
      ]
     },
     "execution_count": 52,
     "metadata": {},
     "output_type": "execute_result"
    }
   ],
   "source": [
    "# Viewing the first five records\n",
    "df.head()"
   ]
  },
  {
   "cell_type": "markdown",
   "metadata": {},
   "source": [
    "None of the columns has missing values. In a next step, information about the unique values per characteristic and the classes of the object datatypes are evaluated. "
   ]
  },
  {
   "cell_type": "code",
   "execution_count": 53,
   "metadata": {},
   "outputs": [
    {
     "name": "stdout",
     "output_type": "stream",
     "text": [
      "Number of unique values for PatientId and AppointmentId:\n",
      "The column `PatientId` contains 62299 unique values.\n",
      "The column `AppointmentID` contains 110527 unique values.\n"
     ]
    }
   ],
   "source": [
    "# Number of unique values for PatientId and AppointmentId\n",
    "print(\"Number of unique values for PatientId and AppointmentId:\")\n",
    "print(\"The column `PatientId` contains {} unique values.\".format(df['PatientId'].nunique()))\n",
    "print(\"The column `AppointmentID` contains {} unique values.\".format(df['AppointmentID'].nunique()))"
   ]
  },
  {
   "cell_type": "code",
   "execution_count": 54,
   "metadata": {},
   "outputs": [
    {
     "name": "stdout",
     "output_type": "stream",
     "text": [
      "Format information for ScheduledDay and AppointmentDay:\n",
      "The column `ScheduledDay` contains <class 'str'> values formatted as 2016-04-29T18:38:08Z.\n",
      "The column `AppointmentDay` contains <class 'str'> values formatted as 2016-04-29T00:00:00Z.\n"
     ]
    }
   ],
   "source": [
    "#Format of ScheduledDay and AppointmentDay \n",
    "print(\"Format information for ScheduledDay and AppointmentDay:\")\n",
    "print(\"The column `ScheduledDay` contains {} values formatted as {}.\".\n",
    "      format(type(df['ScheduledDay'].iloc[0]), df['ScheduledDay'].iloc[0]))\n",
    "print(\"The column `AppointmentDay` contains {} values formatted as {}.\".\n",
    "      format(type(df['AppointmentDay'].iloc[0]), df['AppointmentDay'].iloc[0]))"
   ]
  },
  {
   "cell_type": "code",
   "execution_count": 55,
   "metadata": {},
   "outputs": [
    {
     "name": "stdout",
     "output_type": "stream",
     "text": [
      "Age range, gender definition, number of evaluated neighborhoods and scholarship membership indication:\n",
      "The column `Age` contains values from -1 to 115.\n",
      "The column `Gender` contains the values ['F' 'M'].\n",
      "The column `Neighbourhood` contains 81 unique values.\n",
      "The column `Scholarship` contains the values [0 1].\n"
     ]
    }
   ],
   "source": [
    "#Demographic information: age range, gender definition, number of evaluated neighborhoods, scholarship information\n",
    "print(\"Age range, gender definition, number of evaluated neighborhoods and scholarship membership indication:\")\n",
    "print(\"The column `Age` contains values from {} to {}.\".\n",
    "      format(df['Age'].min(), df['Age'].max()))\n",
    "print(\"The column `Gender` contains the values {}.\".format(df['Gender'].unique()))\n",
    "print(\"The column `Neighbourhood` contains {} unique values.\".\n",
    "      format(df['Neighbourhood'].nunique()))\n",
    "print(\"The column `Scholarship` contains the values {}.\".format(df['Scholarship'].unique()))"
   ]
  },
  {
   "cell_type": "code",
   "execution_count": 56,
   "metadata": {},
   "outputs": [
    {
     "name": "stdout",
     "output_type": "stream",
     "text": [
      "Medical conditions and their representation in the dataset:\n",
      "The column `Hipertension` contains the values [1 0].\n",
      "The column `Diabetes` contains the values [0 1].\n",
      "The column `Alcoholism` contains the values [0 1].\n",
      "The column `Handcap` contains the values [0 1 2 3 4].\n"
     ]
    }
   ],
   "source": [
    "#Information about medical conditions\n",
    "print(\"Medical conditions and their representation in the dataset:\")\n",
    "print(\"The column `Hipertension` contains the values {}.\".format(df['Hipertension'].unique()))\n",
    "print(\"The column `Diabetes` contains the values {}.\".format(df['Diabetes'].unique()))\n",
    "print(\"The column `Alcoholism` contains the values {}.\".format(df['Alcoholism'].unique()))\n",
    "print(\"The column `Handcap` contains the values {}.\".format(df['Handcap'].unique()))"
   ]
  },
  {
   "cell_type": "code",
   "execution_count": 57,
   "metadata": {},
   "outputs": [
    {
     "name": "stdout",
     "output_type": "stream",
     "text": [
      "SMS_received and no-show indication:\n",
      "The column `SMS_received` contains the values [0 1].\n",
      "The column `No-show` contains the values ['No' 'Yes'].\n"
     ]
    }
   ],
   "source": [
    "#Unique values for SMS_received and NoShow\n",
    "print(\"SMS_received and no-show indication:\")\n",
    "print(\"The column `SMS_received` contains the values {}.\".format(df['SMS_received'].unique()))\n",
    "print(\"The column `No-show` contains the values {}.\".format(df['No-show'].unique()))"
   ]
  },
  {
   "cell_type": "markdown",
   "metadata": {},
   "source": [
    "Comparing the number of unique values in the *PatientId* column and *AppointmentID* column, it seems some patients had multiple appointments. For the characteristic gender, two genders ('F' for female and 'M' for male) are differentiated. *ScheduledDay* and *AppointmentDay* are represented by string values formatted as %Y-%m-%d %H:%M:%S. *Age* is represented by values between -1 and 115. There are 81 neighborhoods represented in the dataset. *Scholarships* are differentiated with 0 (no scholarship) and 1 (scholarship). *Hipertension*, *Diabetes* and *Alcoholism* are differentiated with 0 (not affected by this condition) and 1 (affected by this condition) as well. There are 5 values for *Handcap*, that are assumed to represent the number of the patients' disabilities (none, 1, 2, 3, 4). \n",
    "\n",
    "Next, the dataset is inspected for duplicates. "
   ]
  },
  {
   "cell_type": "code",
   "execution_count": 58,
   "metadata": {
    "scrolled": true
   },
   "outputs": [
    {
     "data": {
      "text/plain": [
       "0"
      ]
     },
     "execution_count": 58,
     "metadata": {},
     "output_type": "execute_result"
    }
   ],
   "source": [
    "# Checking for duplicates\n",
    "sum(df.duplicated())"
   ]
  },
  {
   "cell_type": "markdown",
   "metadata": {},
   "source": [
    "The dataset does not contain duplicate rows. The previous inspection of values showed some insight on unique values and min and max of the patients *Age*. Still, using df.describe() could potentially uncover more information about the data."
   ]
  },
  {
   "cell_type": "code",
   "execution_count": 59,
   "metadata": {},
   "outputs": [
    {
     "data": {
      "text/html": [
       "<div>\n",
       "<style scoped>\n",
       "    .dataframe tbody tr th:only-of-type {\n",
       "        vertical-align: middle;\n",
       "    }\n",
       "\n",
       "    .dataframe tbody tr th {\n",
       "        vertical-align: top;\n",
       "    }\n",
       "\n",
       "    .dataframe thead th {\n",
       "        text-align: right;\n",
       "    }\n",
       "</style>\n",
       "<table border=\"1\" class=\"dataframe\">\n",
       "  <thead>\n",
       "    <tr style=\"text-align: right;\">\n",
       "      <th></th>\n",
       "      <th>PatientId</th>\n",
       "      <th>AppointmentID</th>\n",
       "      <th>Age</th>\n",
       "      <th>Scholarship</th>\n",
       "      <th>Hipertension</th>\n",
       "      <th>Diabetes</th>\n",
       "      <th>Alcoholism</th>\n",
       "      <th>Handcap</th>\n",
       "      <th>SMS_received</th>\n",
       "    </tr>\n",
       "  </thead>\n",
       "  <tbody>\n",
       "    <tr>\n",
       "      <th>count</th>\n",
       "      <td>1.105270e+05</td>\n",
       "      <td>1.105270e+05</td>\n",
       "      <td>110527.000000</td>\n",
       "      <td>110527.000000</td>\n",
       "      <td>110527.000000</td>\n",
       "      <td>110527.000000</td>\n",
       "      <td>110527.000000</td>\n",
       "      <td>110527.000000</td>\n",
       "      <td>110527.000000</td>\n",
       "    </tr>\n",
       "    <tr>\n",
       "      <th>mean</th>\n",
       "      <td>1.474963e+14</td>\n",
       "      <td>5.675305e+06</td>\n",
       "      <td>37.088874</td>\n",
       "      <td>0.098266</td>\n",
       "      <td>0.197246</td>\n",
       "      <td>0.071865</td>\n",
       "      <td>0.030400</td>\n",
       "      <td>0.022248</td>\n",
       "      <td>0.321026</td>\n",
       "    </tr>\n",
       "    <tr>\n",
       "      <th>std</th>\n",
       "      <td>2.560949e+14</td>\n",
       "      <td>7.129575e+04</td>\n",
       "      <td>23.110205</td>\n",
       "      <td>0.297675</td>\n",
       "      <td>0.397921</td>\n",
       "      <td>0.258265</td>\n",
       "      <td>0.171686</td>\n",
       "      <td>0.161543</td>\n",
       "      <td>0.466873</td>\n",
       "    </tr>\n",
       "    <tr>\n",
       "      <th>min</th>\n",
       "      <td>3.921784e+04</td>\n",
       "      <td>5.030230e+06</td>\n",
       "      <td>-1.000000</td>\n",
       "      <td>0.000000</td>\n",
       "      <td>0.000000</td>\n",
       "      <td>0.000000</td>\n",
       "      <td>0.000000</td>\n",
       "      <td>0.000000</td>\n",
       "      <td>0.000000</td>\n",
       "    </tr>\n",
       "    <tr>\n",
       "      <th>25%</th>\n",
       "      <td>4.172614e+12</td>\n",
       "      <td>5.640286e+06</td>\n",
       "      <td>18.000000</td>\n",
       "      <td>0.000000</td>\n",
       "      <td>0.000000</td>\n",
       "      <td>0.000000</td>\n",
       "      <td>0.000000</td>\n",
       "      <td>0.000000</td>\n",
       "      <td>0.000000</td>\n",
       "    </tr>\n",
       "    <tr>\n",
       "      <th>50%</th>\n",
       "      <td>3.173184e+13</td>\n",
       "      <td>5.680573e+06</td>\n",
       "      <td>37.000000</td>\n",
       "      <td>0.000000</td>\n",
       "      <td>0.000000</td>\n",
       "      <td>0.000000</td>\n",
       "      <td>0.000000</td>\n",
       "      <td>0.000000</td>\n",
       "      <td>0.000000</td>\n",
       "    </tr>\n",
       "    <tr>\n",
       "      <th>75%</th>\n",
       "      <td>9.439172e+13</td>\n",
       "      <td>5.725524e+06</td>\n",
       "      <td>55.000000</td>\n",
       "      <td>0.000000</td>\n",
       "      <td>0.000000</td>\n",
       "      <td>0.000000</td>\n",
       "      <td>0.000000</td>\n",
       "      <td>0.000000</td>\n",
       "      <td>1.000000</td>\n",
       "    </tr>\n",
       "    <tr>\n",
       "      <th>max</th>\n",
       "      <td>9.999816e+14</td>\n",
       "      <td>5.790484e+06</td>\n",
       "      <td>115.000000</td>\n",
       "      <td>1.000000</td>\n",
       "      <td>1.000000</td>\n",
       "      <td>1.000000</td>\n",
       "      <td>1.000000</td>\n",
       "      <td>4.000000</td>\n",
       "      <td>1.000000</td>\n",
       "    </tr>\n",
       "  </tbody>\n",
       "</table>\n",
       "</div>"
      ],
      "text/plain": [
       "          PatientId  AppointmentID            Age    Scholarship  \\\n",
       "count  1.105270e+05   1.105270e+05  110527.000000  110527.000000   \n",
       "mean   1.474963e+14   5.675305e+06      37.088874       0.098266   \n",
       "std    2.560949e+14   7.129575e+04      23.110205       0.297675   \n",
       "min    3.921784e+04   5.030230e+06      -1.000000       0.000000   \n",
       "25%    4.172614e+12   5.640286e+06      18.000000       0.000000   \n",
       "50%    3.173184e+13   5.680573e+06      37.000000       0.000000   \n",
       "75%    9.439172e+13   5.725524e+06      55.000000       0.000000   \n",
       "max    9.999816e+14   5.790484e+06     115.000000       1.000000   \n",
       "\n",
       "        Hipertension       Diabetes     Alcoholism        Handcap  \\\n",
       "count  110527.000000  110527.000000  110527.000000  110527.000000   \n",
       "mean        0.197246       0.071865       0.030400       0.022248   \n",
       "std         0.397921       0.258265       0.171686       0.161543   \n",
       "min         0.000000       0.000000       0.000000       0.000000   \n",
       "25%         0.000000       0.000000       0.000000       0.000000   \n",
       "50%         0.000000       0.000000       0.000000       0.000000   \n",
       "75%         0.000000       0.000000       0.000000       0.000000   \n",
       "max         1.000000       1.000000       1.000000       4.000000   \n",
       "\n",
       "        SMS_received  \n",
       "count  110527.000000  \n",
       "mean        0.321026  \n",
       "std         0.466873  \n",
       "min         0.000000  \n",
       "25%         0.000000  \n",
       "50%         0.000000  \n",
       "75%         1.000000  \n",
       "max         1.000000  "
      ]
     },
     "execution_count": 59,
     "metadata": {},
     "output_type": "execute_result"
    }
   ],
   "source": [
    "# Inspecting the dataset with describe()\n",
    "df.describe()"
   ]
  },
  {
   "cell_type": "markdown",
   "metadata": {},
   "source": [
    "Again, the *Age* value \"-1\" stands out. The average patient in the dataset is 37 years old, 25% of the patients are under 18, 25% are over 55. Around 10% of the patients are part of the Bolsa Familia program. 20% suffer from hypertension, 7% from diabetes, 3% from alcoholism. For 32% of the appointments, patients received SMS reminders. \n",
    "\n",
    "As a next step, histograms are generated, to quickly glance over the distributions for the characteristics."
   ]
  },
  {
   "cell_type": "code",
   "execution_count": 60,
   "metadata": {},
   "outputs": [
    {
     "data": {
      "image/png": "[encoded data removed]",
      "text/plain": [
       "<Figure size 720x576 with 9 Axes>"
      ]
     },
     "metadata": {
      "needs_background": "light"
     },
     "output_type": "display_data"
    }
   ],
   "source": [
    "# Generating histograms\n",
    "df.hist(figsize=(10,8));"
   ]
  },
  {
   "cell_type": "markdown",
   "metadata": {},
   "source": [
    "The distribution of the different numbers of handicaps is very low in proportion to the number of disabilities. It might be sufficient to differentiate between disabled versus non-disabled instead of listing the disability counts.\n",
    "\n",
    "*Gender*, *No_show*, *ScheduledDay*, and *AppointmentDay* are not displayed in both df.describe and the histograms, due to their datatype. Before cleaning the data, information on gender distribution, no-show vs showed distribution and appointment date and scheduling time distributions are going to be inspected. "
   ]
  },
  {
   "cell_type": "code",
   "execution_count": 61,
   "metadata": {},
   "outputs": [
    {
     "name": "stdout",
     "output_type": "stream",
     "text": [
      "Gender Distribution:\n",
      "Gender\n",
      "F    71840\n",
      "M    38687\n",
      "dtype: int64\n"
     ]
    }
   ],
   "source": [
    "# Calculating and printing the gender distribution\n",
    "print(\"Gender Distribution:\")\n",
    "print(df.groupby(['Gender']).size())"
   ]
  },
  {
   "cell_type": "code",
   "execution_count": 62,
   "metadata": {},
   "outputs": [
    {
     "name": "stdout",
     "output_type": "stream",
     "text": [
      "Male patients: 35.00%\n",
      "Female patients: 65.00%\n"
     ]
    }
   ],
   "source": [
    "# Calculating the proportion of male and female patients\n",
    "female = df.groupby(['Gender']).size()[0]/(df.groupby(['Gender']).size()[0]+df.groupby(['Gender']).size()[1])\n",
    "male = df.groupby(['Gender']).size()[1]/(df.groupby(['Gender']).size()[0]+df.groupby(['Gender']).size()[1])\n",
    "# Printing the proportions as percentages\n",
    "print(\"Male patients: {:.2f}%\".format(male*100))\n",
    "print(\"Female patients: {:.2f}%\".format(female*100))"
   ]
  },
  {
   "cell_type": "markdown",
   "metadata": {},
   "source": [
    "35% of the patients are male, 65% are female."
   ]
  },
  {
   "cell_type": "code",
   "execution_count": 63,
   "metadata": {},
   "outputs": [
    {
     "name": "stdout",
     "output_type": "stream",
     "text": [
      "No-Show vs Showed Distribution:\n",
      "No-show\n",
      "No     88208\n",
      "Yes    22319\n",
      "dtype: int64\n"
     ]
    }
   ],
   "source": [
    "# Calculating and printing the distribution of showed vs no-show\n",
    "print(\"No-Show vs Showed Distribution:\")\n",
    "print(df.groupby(['No-show']).size())"
   ]
  },
  {
   "cell_type": "code",
   "execution_count": 64,
   "metadata": {},
   "outputs": [
    {
     "name": "stdout",
     "output_type": "stream",
     "text": [
      "Percentage of patients showing to their appointment: 79.81%\n",
      "Percentage of no-show appointments: 20.19%\n"
     ]
    }
   ],
   "source": [
    "# Calculating the proportion of patients showing and not showing at appointments\n",
    "showed = df.groupby(['No-show']).size()[0]/(df.groupby(['No-show']).size()[0]+df.groupby(['No-show']).size()[1])\n",
    "no_show = df.groupby(['No-show']).size()[1]/(df.groupby(['No-show']).size()[0]+df.groupby(['No-show']).size()[1])\n",
    "\n",
    "# Printing the proportion as percentage value\n",
    "print(\"Percentage of patients showing to their appointment: {:.2f}%\".format(showed*100))\n",
    "print(\"Percentage of no-show appointments: {:.2f}%\".format(no_show*100))"
   ]
  },
  {
   "cell_type": "markdown",
   "metadata": {},
   "source": [
    "For approximately 80% of the appointments, the patients showed up. For approx. 20% they didn't show."
   ]
  },
  {
   "cell_type": "code",
   "execution_count": 65,
   "metadata": {},
   "outputs": [
    {
     "data": {
      "text/plain": [
       "('2016-04-29T00:00:00Z', '2016-06-08T00:00:00Z')"
      ]
     },
     "execution_count": 65,
     "metadata": {},
     "output_type": "execute_result"
    }
   ],
   "source": [
    "# When did the appointments take place?\n",
    "df.AppointmentDay.min(), df.AppointmentDay.max()"
   ]
  },
  {
   "cell_type": "markdown",
   "metadata": {},
   "source": [
    "The appointments took place between the 29th of April 2016 and the 8th of June 2016."
   ]
  },
  {
   "cell_type": "code",
   "execution_count": 66,
   "metadata": {},
   "outputs": [
    {
     "data": {
      "text/plain": [
       "('2015-11-10T07:13:56Z', '2016-06-08T20:07:23Z')"
      ]
     },
     "execution_count": 66,
     "metadata": {},
     "output_type": "execute_result"
    }
   ],
   "source": [
    "# When have the appointments been scheduled?\n",
    "df.ScheduledDay.min(), df.ScheduledDay.max()"
   ]
  },
  {
   "cell_type": "markdown",
   "metadata": {},
   "source": [
    "The appointments were scheduled between the 10th of November 2015 and the 8th of June 2016. It seems like the waiting time between scheduling of the appointment ranges from same-day appointments to appointments that have been scheduled several months in advance. "
   ]
  },
  {
   "cell_type": "markdown",
   "metadata": {},
   "source": [
    "\n",
    "### Data Cleaning\n"
   ]
  },
  {
   "cell_type": "markdown",
   "metadata": {},
   "source": [
    "After inspecting the datset, it becomes clear, that some data will be easier to analyze after cleaning. \n",
    "\n",
    "*PatientId* and *AppointmentID* will probably not be part of this analysis, still, they will be kept in the dataset. This allows to e.g. segment by patients with singular or multiple appointments within the dataset, if needed. As *PatientId* is currently a float, it will be **converted to an integer**. \n",
    "\n",
    "An *Age* of -1 seems like a data inconsistency, this value will be evaluated further before deciding whether to **drop** this data. \n",
    "\n",
    "*ScheduledDay* and *AppointmentDay* will be **converted to datetime objects**, to make datetime related manipulations possible. \n",
    "\n",
    "The five values of *Handcap* are interpreted as indicating how many disabilities a patient has. To simplify the analysis, the values 1, 2, 3, 4, are **converted to '1'** - indicating whether or not a patient has disabilities. \n",
    "\n",
    "To avoid confusion in the analysis, **the values \"Yes\" and \"No\" in the *No-show* column are renamed to \"No-Show\" and \"Showed\"**\n",
    "\n",
    "Last, **all column names are renamed**, to fix typos and have easier (lowercase) column names for further operations. "
   ]
  },
  {
   "cell_type": "code",
   "execution_count": 67,
   "metadata": {},
   "outputs": [],
   "source": [
    "# Converting PatientId to integer\n",
    "df['PatientId'] = df['PatientId'].astype('int64')"
   ]
  },
  {
   "cell_type": "code",
   "execution_count": 68,
   "metadata": {},
   "outputs": [
    {
     "data": {
      "text/html": [
       "<div>\n",
       "<style scoped>\n",
       "    .dataframe tbody tr th:only-of-type {\n",
       "        vertical-align: middle;\n",
       "    }\n",
       "\n",
       "    .dataframe tbody tr th {\n",
       "        vertical-align: top;\n",
       "    }\n",
       "\n",
       "    .dataframe thead th {\n",
       "        text-align: right;\n",
       "    }\n",
       "</style>\n",
       "<table border=\"1\" class=\"dataframe\">\n",
       "  <thead>\n",
       "    <tr style=\"text-align: right;\">\n",
       "      <th></th>\n",
       "      <th>PatientId</th>\n",
       "      <th>AppointmentID</th>\n",
       "      <th>Gender</th>\n",
       "      <th>ScheduledDay</th>\n",
       "      <th>AppointmentDay</th>\n",
       "      <th>Age</th>\n",
       "      <th>Neighbourhood</th>\n",
       "      <th>Scholarship</th>\n",
       "      <th>Hipertension</th>\n",
       "      <th>Diabetes</th>\n",
       "      <th>Alcoholism</th>\n",
       "      <th>Handcap</th>\n",
       "      <th>SMS_received</th>\n",
       "      <th>No-show</th>\n",
       "    </tr>\n",
       "  </thead>\n",
       "  <tbody>\n",
       "    <tr>\n",
       "      <th>99832</th>\n",
       "      <td>465943158731293</td>\n",
       "      <td>5775010</td>\n",
       "      <td>F</td>\n",
       "      <td>2016-06-06T08:58:13Z</td>\n",
       "      <td>2016-06-06T00:00:00Z</td>\n",
       "      <td>-1</td>\n",
       "      <td>ROMÃO</td>\n",
       "      <td>0</td>\n",
       "      <td>0</td>\n",
       "      <td>0</td>\n",
       "      <td>0</td>\n",
       "      <td>0</td>\n",
       "      <td>0</td>\n",
       "      <td>No</td>\n",
       "    </tr>\n",
       "  </tbody>\n",
       "</table>\n",
       "</div>"
      ],
      "text/plain": [
       "             PatientId  AppointmentID Gender          ScheduledDay  \\\n",
       "99832  465943158731293        5775010      F  2016-06-06T08:58:13Z   \n",
       "\n",
       "             AppointmentDay  Age Neighbourhood  Scholarship  Hipertension  \\\n",
       "99832  2016-06-06T00:00:00Z   -1         ROMÃO            0             0   \n",
       "\n",
       "       Diabetes  Alcoholism  Handcap  SMS_received No-show  \n",
       "99832         0           0        0             0      No  "
      ]
     },
     "execution_count": 68,
     "metadata": {},
     "output_type": "execute_result"
    }
   ],
   "source": [
    "# Inspecting rows with Age == -1\n",
    "age_neg = df[df['Age'] == -1]\n",
    "age_neg"
   ]
  },
  {
   "cell_type": "markdown",
   "metadata": {},
   "source": [
    "Only one record has a negative age. It seems like the negative age is a typo. As only one of 110k plus records, it seems neglectable, and this row will be dropped."
   ]
  },
  {
   "cell_type": "code",
   "execution_count": 69,
   "metadata": {},
   "outputs": [],
   "source": [
    "# Dropping Age == -1\n",
    "df.drop(df[df['Age'] == -1].index, inplace=True)"
   ]
  },
  {
   "cell_type": "markdown",
   "metadata": {},
   "source": [
    "To convert *ScheduledDay* and *AppointmentDay* to datetime, pandas .to_datetime function was used. Only *ScheduledDay* has distinct timestamp information. To simplify the calculation of waiting time, the timestamps will be removed using the dt.date function Source: Pandas documentation. "
   ]
  },
  {
   "cell_type": "code",
   "execution_count": 70,
   "metadata": {},
   "outputs": [],
   "source": [
    "# Converting ScheduledDay and AppointmentDay to datetime\n",
    "df['ScheduledDay'] = pd.to_datetime(df['ScheduledDay'],infer_datetime_format=True).dt.date.astype('datetime64[ns]')\n",
    "df['AppointmentDay'] = pd.to_datetime(df['AppointmentDay'], infer_datetime_format=True).dt.date.astype('datetime64[ns]')"
   ]
  },
  {
   "cell_type": "markdown",
   "metadata": {},
   "source": [
    "Next, the *Handcap* values are manipulated, to only have the values 0 and 1 left."
   ]
  },
  {
   "cell_type": "code",
   "execution_count": 71,
   "metadata": {},
   "outputs": [],
   "source": [
    "# Replacing the Handcap values 2, 3, and 4 with 1\n",
    "df['Handcap'].replace([2, 3, 4], 1, inplace=True)"
   ]
  },
  {
   "cell_type": "markdown",
   "metadata": {},
   "source": [
    "Now, the *No-show* values are manipulated, to avoid confusion about who showed and who didn't."
   ]
  },
  {
   "cell_type": "code",
   "execution_count": 72,
   "metadata": {},
   "outputs": [],
   "source": [
    "# Renaming No-show values\n",
    "df['No-show'] = df['No-show'].map({ 'No': 'Showed', 'Yes': 'No-show' })"
   ]
  },
  {
   "cell_type": "markdown",
   "metadata": {},
   "source": [
    "Finally, the columns are renamed to be all lowercase and use underscores where appropriate"
   ]
  },
  {
   "cell_type": "code",
   "execution_count": 73,
   "metadata": {},
   "outputs": [],
   "source": [
    "# Renaming columns to be all lowercase and use underscores\n",
    "new_col_names = {'PatientId': 'patient_id', 'AppointmentID': 'appointment_id', \n",
    "                    'Gender': 'gender', 'ScheduledDay': 'scheduled_day', \n",
    "                    'AppointmentDay': 'appointment_day', 'Age': 'age', \n",
    "                    'Neighbourhood': 'neighbourhood', 'Scholarship': 'scholarship', \n",
    "                    'Hipertension': 'hypertension', 'Diabetes': 'diabetes', \n",
    "                    'Alcoholism': 'alcoholism', 'Handcap': 'handicap', \n",
    "                    'SMS_received': 'sms_received', 'No-show': 'no_show'}\n",
    "df.rename(columns= new_col_names, inplace=True)"
   ]
  },
  {
   "cell_type": "markdown",
   "metadata": {},
   "source": [
    "After cleaning the data, df.head() and df.info() are used to inspect the changes."
   ]
  },
  {
   "cell_type": "code",
   "execution_count": 74,
   "metadata": {},
   "outputs": [
    {
     "data": {
      "text/html": [
       "<div>\n",
       "<style scoped>\n",
       "    .dataframe tbody tr th:only-of-type {\n",
       "        vertical-align: middle;\n",
       "    }\n",
       "\n",
       "    .dataframe tbody tr th {\n",
       "        vertical-align: top;\n",
       "    }\n",
       "\n",
       "    .dataframe thead th {\n",
       "        text-align: right;\n",
       "    }\n",
       "</style>\n",
       "<table border=\"1\" class=\"dataframe\">\n",
       "  <thead>\n",
       "    <tr style=\"text-align: right;\">\n",
       "      <th></th>\n",
       "      <th>patient_id</th>\n",
       "      <th>appointment_id</th>\n",
       "      <th>gender</th>\n",
       "      <th>scheduled_day</th>\n",
       "      <th>appointment_day</th>\n",
       "      <th>age</th>\n",
       "      <th>neighbourhood</th>\n",
       "      <th>scholarship</th>\n",
       "      <th>hypertension</th>\n",
       "      <th>diabetes</th>\n",
       "      <th>alcoholism</th>\n",
       "      <th>handicap</th>\n",
       "      <th>sms_received</th>\n",
       "      <th>no_show</th>\n",
       "    </tr>\n",
       "  </thead>\n",
       "  <tbody>\n",
       "    <tr>\n",
       "      <th>0</th>\n",
       "      <td>29872499824296</td>\n",
       "      <td>5642903</td>\n",
       "      <td>F</td>\n",
       "      <td>2016-04-29</td>\n",
       "      <td>2016-04-29</td>\n",
       "      <td>62</td>\n",
       "      <td>JARDIM DA PENHA</td>\n",
       "      <td>0</td>\n",
       "      <td>1</td>\n",
       "      <td>0</td>\n",
       "      <td>0</td>\n",
       "      <td>0</td>\n",
       "      <td>0</td>\n",
       "      <td>Showed</td>\n",
       "    </tr>\n",
       "    <tr>\n",
       "      <th>1</th>\n",
       "      <td>558997776694438</td>\n",
       "      <td>5642503</td>\n",
       "      <td>M</td>\n",
       "      <td>2016-04-29</td>\n",
       "      <td>2016-04-29</td>\n",
       "      <td>56</td>\n",
       "      <td>JARDIM DA PENHA</td>\n",
       "      <td>0</td>\n",
       "      <td>0</td>\n",
       "      <td>0</td>\n",
       "      <td>0</td>\n",
       "      <td>0</td>\n",
       "      <td>0</td>\n",
       "      <td>Showed</td>\n",
       "    </tr>\n",
       "    <tr>\n",
       "      <th>2</th>\n",
       "      <td>4262962299951</td>\n",
       "      <td>5642549</td>\n",
       "      <td>F</td>\n",
       "      <td>2016-04-29</td>\n",
       "      <td>2016-04-29</td>\n",
       "      <td>62</td>\n",
       "      <td>MATA DA PRAIA</td>\n",
       "      <td>0</td>\n",
       "      <td>0</td>\n",
       "      <td>0</td>\n",
       "      <td>0</td>\n",
       "      <td>0</td>\n",
       "      <td>0</td>\n",
       "      <td>Showed</td>\n",
       "    </tr>\n",
       "    <tr>\n",
       "      <th>3</th>\n",
       "      <td>867951213174</td>\n",
       "      <td>5642828</td>\n",
       "      <td>F</td>\n",
       "      <td>2016-04-29</td>\n",
       "      <td>2016-04-29</td>\n",
       "      <td>8</td>\n",
       "      <td>PONTAL DE CAMBURI</td>\n",
       "      <td>0</td>\n",
       "      <td>0</td>\n",
       "      <td>0</td>\n",
       "      <td>0</td>\n",
       "      <td>0</td>\n",
       "      <td>0</td>\n",
       "      <td>Showed</td>\n",
       "    </tr>\n",
       "    <tr>\n",
       "      <th>4</th>\n",
       "      <td>8841186448183</td>\n",
       "      <td>5642494</td>\n",
       "      <td>F</td>\n",
       "      <td>2016-04-29</td>\n",
       "      <td>2016-04-29</td>\n",
       "      <td>56</td>\n",
       "      <td>JARDIM DA PENHA</td>\n",
       "      <td>0</td>\n",
       "      <td>1</td>\n",
       "      <td>1</td>\n",
       "      <td>0</td>\n",
       "      <td>0</td>\n",
       "      <td>0</td>\n",
       "      <td>Showed</td>\n",
       "    </tr>\n",
       "  </tbody>\n",
       "</table>\n",
       "</div>"
      ],
      "text/plain": [
       "        patient_id  appointment_id gender scheduled_day appointment_day  age  \\\n",
       "0   29872499824296         5642903      F    2016-04-29      2016-04-29   62   \n",
       "1  558997776694438         5642503      M    2016-04-29      2016-04-29   56   \n",
       "2    4262962299951         5642549      F    2016-04-29      2016-04-29   62   \n",
       "3     867951213174         5642828      F    2016-04-29      2016-04-29    8   \n",
       "4    8841186448183         5642494      F    2016-04-29      2016-04-29   56   \n",
       "\n",
       "       neighbourhood  scholarship  hypertension  diabetes  alcoholism  \\\n",
       "0    JARDIM DA PENHA            0             1         0           0   \n",
       "1    JARDIM DA PENHA            0             0         0           0   \n",
       "2      MATA DA PRAIA            0             0         0           0   \n",
       "3  PONTAL DE CAMBURI            0             0         0           0   \n",
       "4    JARDIM DA PENHA            0             1         1           0   \n",
       "\n",
       "   handicap  sms_received no_show  \n",
       "0         0             0  Showed  \n",
       "1         0             0  Showed  \n",
       "2         0             0  Showed  \n",
       "3         0             0  Showed  \n",
       "4         0             0  Showed  "
      ]
     },
     "execution_count": 74,
     "metadata": {},
     "output_type": "execute_result"
    }
   ],
   "source": [
    "# Viewing the first 5 records again\n",
    "df.head()"
   ]
  },
  {
   "cell_type": "code",
   "execution_count": 75,
   "metadata": {},
   "outputs": [
    {
     "name": "stdout",
     "output_type": "stream",
     "text": [
      "<class 'pandas.core.frame.DataFrame'>\n",
      "Int64Index: 110526 entries, 0 to 110526\n",
      "Data columns (total 14 columns):\n",
      " #   Column           Non-Null Count   Dtype         \n",
      "---  ------           --------------   -----         \n",
      " 0   patient_id       110526 non-null  int64         \n",
      " 1   appointment_id   110526 non-null  int64         \n",
      " 2   gender           110526 non-null  object        \n",
      " 3   scheduled_day    110526 non-null  datetime64[ns]\n",
      " 4   appointment_day  110526 non-null  datetime64[ns]\n",
      " 5   age              110526 non-null  int64         \n",
      " 6   neighbourhood    110526 non-null  object        \n",
      " 7   scholarship      110526 non-null  int64         \n",
      " 8   hypertension     110526 non-null  int64         \n",
      " 9   diabetes         110526 non-null  int64         \n",
      " 10  alcoholism       110526 non-null  int64         \n",
      " 11  handicap         110526 non-null  int64         \n",
      " 12  sms_received     110526 non-null  int64         \n",
      " 13  no_show          110526 non-null  object        \n",
      "dtypes: datetime64[ns](2), int64(9), object(3)\n",
      "memory usage: 12.6+ MB\n"
     ]
    }
   ],
   "source": [
    "# Checking datatypes\n",
    "df.info()"
   ]
  },
  {
   "cell_type": "markdown",
   "metadata": {},
   "source": [
    "<a id='eda'></a>\n",
    "## Exploratory Data Analysis"
   ]
  },
  {
   "cell_type": "markdown",
   "metadata": {},
   "source": [
    "Based on the findings of the Data Wrangling phase, the data analysis will focus on three characteristics of the dataset. First, it will be investigated if patients with healthcare scholarships are more likely to show up to their appointments. Then, the effect of SMS reminders on no-show proportions is explored. Finally, the effect of a longer or shorter waiting time before the appointment is taken into consideration. "
   ]
  },
  {
   "cell_type": "markdown",
   "metadata": {},
   "source": [
    "To revisit the distribution of the dependent variable, a visualization of showed vs no-show is plotted. "
   ]
  },
  {
   "cell_type": "code",
   "execution_count": 76,
   "metadata": {
    "scrolled": true
   },
   "outputs": [
    {
     "data": {
      "image/png": "[encoded data removed]",
      "text/plain": [
       "<Figure size 432x288 with 1 Axes>"
      ]
     },
     "metadata": {
      "needs_background": "light"
     },
     "output_type": "display_data"
    }
   ],
   "source": [
    "# Plotting count of showed vs. no-show appointments\n",
    "ax = sns.countplot(x=df.no_show, data=df)\n",
    "ax.set_title(\"Patients showing and not showing to their appointment\")\n",
    "plt.ylabel('Patient count')\n",
    "plt.xlabel('Showed vs no-show')\n",
    "plt.show()"
   ]
  },
  {
   "cell_type": "markdown",
   "metadata": {},
   "source": [
    "As seen earlier, at around 80% of the appointments, the patient showed up. "
   ]
  },
  {
   "cell_type": "markdown",
   "metadata": {},
   "source": [
    "<a id='RQ1'></a>\n",
    "### Research Question 1: Are patients with healthcare scholarships more, less or equally likely to show up to their appointment than those without?"
   ]
  },
  {
   "cell_type": "markdown",
   "metadata": {},
   "source": [
    "Around 10% of the patients in the dataset are part of the Bolsa Familia program. Could scholarship membership influence the likelihood of patients showing to appointments? "
   ]
  },
  {
   "cell_type": "code",
   "execution_count": 77,
   "metadata": {},
   "outputs": [
    {
     "data": {
      "image/png": "[encoded data removed]",
      "text/plain": [
       "<Figure size 432x288 with 1 Axes>"
      ]
     },
     "metadata": {
      "needs_background": "light"
     },
     "output_type": "display_data"
    }
   ],
   "source": [
    "# Plotting the distribution of showed vs no-show for scholarship members and non-scholarship members\n",
    "ax = sns.countplot(x=df.scholarship, hue=df.no_show, data=df)\n",
    "ax.set_title(\"Showed vs. No-show in relation to scholarship membership\")\n",
    "x_ticks_labels=['No Scholarship', 'Scholarship']\n",
    "ax.set_xticklabels(x_ticks_labels)\n",
    "plt.ylabel('Patient count')\n",
    "plt.xlabel('Scholarship membership')\n",
    "plt.show()"
   ]
  },
  {
   "cell_type": "markdown",
   "metadata": {},
   "source": [
    "It will be easier to directly compare the proportion of patients that showed to their appointment with or without scholarship. "
   ]
  },
  {
   "cell_type": "code",
   "execution_count": 78,
   "metadata": {},
   "outputs": [
    {
     "name": "stdout",
     "output_type": "stream",
     "text": [
      "scholarship\n",
      "0    0.801926\n",
      "1    0.762637\n",
      "dtype: float64\n"
     ]
    },
    {
     "data": {
      "image/png": "[encoded data removed]",
      "text/plain": [
       "<Figure size 432x288 with 1 Axes>"
      ]
     },
     "metadata": {
      "needs_background": "light"
     },
     "output_type": "display_data"
    }
   ],
   "source": [
    "# Percentage of appointments, where the patient showed for scholarship recipients and non-recipients\n",
    "df_scholarship_ratio = df[df.no_show == 'Showed'].groupby(['scholarship']).size()/df.groupby(['scholarship']).size()\n",
    "\n",
    "# Plot the difference\n",
    "ax = sns.barplot(x=df_scholarship_ratio.index, y=df_scholarship_ratio)\n",
    "print(df_scholarship_ratio)\n",
    "ax.set_title(\"Proportion of showed patients by scholarship\")\n",
    "x_ticks_labels=['No Scholarship', 'Scholarship']\n",
    "ax.set_xticklabels(x_ticks_labels)\n",
    "plt.ylabel('Proportion of patients')\n",
    "plt.xlabel('Scholarship membership')\n",
    "plt.show()"
   ]
  },
  {
   "cell_type": "markdown",
   "metadata": {},
   "source": [
    "Judging from above graph, it seems that appointments with patients without Bolsa Familia scholarship had a higher show-rate than appointments with patients with the scholarship. \n",
    "\n",
    "Until now, only the correlation between *scholarship* and *no_show* has been evaluated. Do the results hold, if other independent variables are mixed in? In the following steps, the influence of *gender*, *age*, and *sms_received* on scholarship recipients' and non-scholarship recipients' showed percentage at appointments will be evaluated. "
   ]
  },
  {
   "cell_type": "markdown",
   "metadata": {},
   "source": [
    "#### Does the difference in showed percentage for scholarship and non-scholarship recipients hold up for different genders?"
   ]
  },
  {
   "cell_type": "markdown",
   "metadata": {},
   "source": [
    "Are there differences in showed vs no-show based on gender?"
   ]
  },
  {
   "cell_type": "code",
   "execution_count": 79,
   "metadata": {
    "scrolled": true
   },
   "outputs": [
    {
     "name": "stdout",
     "output_type": "stream",
     "text": [
      "gender\n",
      "F    0.796851\n",
      "M    0.800321\n",
      "dtype: float64\n"
     ]
    },
    {
     "data": {
      "image/png": "[encoded data removed]",
      "text/plain": [
       "<Figure size 432x288 with 1 Axes>"
      ]
     },
     "metadata": {
      "needs_background": "light"
     },
     "output_type": "display_data"
    }
   ],
   "source": [
    "# Calculating ratios\n",
    "df_gender_ratio = df[df.no_show == 'Showed'].groupby(['gender']).size()/df.groupby(['gender']).size()\n",
    "\n",
    "# Plotting the difference\n",
    "ax = sns.barplot(x=df_gender_ratio.index, y=df_gender_ratio)\n",
    "print(df_gender_ratio)\n",
    "ax.set_title(\"Proportion of showed patients by gender\")\n",
    "plt.ylabel('Proportion of patients')\n",
    "plt.xlabel('Gender')\n",
    "plt.show()"
   ]
  },
  {
   "cell_type": "markdown",
   "metadata": {},
   "source": [
    "From above visualization it seems like gender is not correlated to the likelihood whether a patient shows or does not show to their appointment. But what happens, if the two independent variables *scholarship* and *gender* and their joint influence on *no-show* are mixed?"
   ]
  },
  {
   "cell_type": "code",
   "execution_count": 80,
   "metadata": {},
   "outputs": [],
   "source": [
    "# Creating masks for gender distributions\n",
    "male = df.query('gender == \"M\"')\n",
    "female = df.query('gender == \"F\"')\n",
    "\n",
    "# Creating masks for distribution of scholarship membership by gender\n",
    "female_scholarship = female.query('scholarship == 1')\n",
    "female_no_scholarship = female.query('scholarship == 0')\n",
    "male_scholarship = male.query('scholarship == 1')\n",
    "male_no_scholarship = male.query('scholarship == 0')\n",
    "\n",
    "# Getting counts for distribution of scholarship membership by gender\n",
    "female_scholarship_showed = female_scholarship.groupby('no_show')['appointment_id'].count()\n",
    "female_no_scholarship_showed = female_no_scholarship.groupby('no_show')['appointment_id'].count()\n",
    "male_scholarship_showed = male_scholarship.groupby('no_show')['appointment_id'].count()\n",
    "male_no_scholarship_showed = male_no_scholarship.groupby('no_show')['appointment_id'].count()\n",
    "\n",
    "# Getting proportions of appointments were patients showed for each gender\n",
    "female_scholarship_showed_proportion = female_scholarship_showed/female_scholarship_showed.sum()\n",
    "female_no_scholarship_showed_proportion = female_no_scholarship_showed/female_no_scholarship_showed.sum()\n",
    "male_scholarship_showed_proportion = male_scholarship_showed/male_scholarship_showed.sum()\n",
    "male_no_scholarship_showed_proportion = male_no_scholarship_showed/male_no_scholarship_showed.sum()\n",
    "\n",
    "# Create a dataframe containing both proportions together\n",
    "scholarship_gender_showed_proportion_df = pd.DataFrame({\n",
    "    'Scholarship': [female_scholarship_showed_proportion['Showed'], male_scholarship_showed_proportion['Showed']],\n",
    "    'No Scholarship': [female_no_scholarship_showed_proportion['Showed'], male_no_scholarship_showed_proportion['Showed']]}, \n",
    "    index=['Female', 'Male'])"
   ]
  },
  {
   "cell_type": "markdown",
   "metadata": {},
   "source": [
    "After creating the dataframe, the proportions are plotted."
   ]
  },
  {
   "cell_type": "code",
   "execution_count": 81,
   "metadata": {},
   "outputs": [
    {
     "name": "stdout",
     "output_type": "stream",
     "text": [
      "        Scholarship  No Scholarship\n",
      "Female     0.762115        0.801734\n",
      "Male       0.764940        0.802257\n"
     ]
    },
    {
     "data": {
      "image/png": "[encoded data removed]",
      "text/plain": [
       "<Figure size 576x360 with 1 Axes>"
      ]
     },
     "metadata": {
      "needs_background": "light"
     },
     "output_type": "display_data"
    }
   ],
   "source": [
    "# Plot the proportion\n",
    "scholarship_gender_showed_proportion_df.plot(kind='bar', alpha=0.70, figsize=(8,5))\n",
    "print(scholarship_gender_showed_proportion_df)\n",
    "plt.legend()\n",
    "plt.title('Proportion of showed patients by gender')\n",
    "plt.ylabel('Proportion')\n",
    "plt.xlabel('Gender')\n",
    "plt.xticks(rotation=0)\n",
    "plt.show();"
   ]
  },
  {
   "cell_type": "markdown",
   "metadata": {},
   "source": [
    "The showed percentage for scholarship vs non-scholarship recipients is almost identical for each gender. "
   ]
  },
  {
   "cell_type": "markdown",
   "metadata": {},
   "source": [
    "#### Does the difference in showed percentage for scholarship and non-scholarship recipients hold up for different age groups?"
   ]
  },
  {
   "cell_type": "markdown",
   "metadata": {},
   "source": [
    "Are there differences in showed vs no-show based on age? First, a boxplot of patient ages is used to visualize the age distribution."
   ]
  },
  {
   "cell_type": "code",
   "execution_count": 122,
   "metadata": {},
   "outputs": [
    {
     "data": {
      "image/png": "[encoded data removed]",
      "text/plain": [
       "<Figure size 1152x144 with 1 Axes>"
      ]
     },
     "metadata": {
      "needs_background": "light"
     },
     "output_type": "display_data"
    }
   ],
   "source": [
    "# Creating a boxplot chart of patient ages\n",
    "plt.figure(figsize=(16,2))\n",
    "plt.xticks(rotation=90)\n",
    "sns.boxplot(x=df.age);\n",
    "plt.title('Distribution of patient age');"
   ]
  },
  {
   "cell_type": "markdown",
   "metadata": {},
   "source": [
    "As previously seen in the data wrangling phase, the sample is relatively young, with a median of 37, and 75% of the patients being under 55. Nevertheless, the whiskers range from 0 to over 100, with one outlier at 115. \n",
    "\n",
    "Next, the patient count per age for appointments, where the patient showed, is plotted in a histogram. Afterwards, conclusions for suitable age group containers are drawn. "
   ]
  },
  {
   "cell_type": "code",
   "execution_count": 83,
   "metadata": {},
   "outputs": [
    {
     "data": {
      "image/png": "[encoded data removed]",
      "text/plain": [
       "<Figure size 576x360 with 1 Axes>"
      ]
     },
     "metadata": {
      "needs_background": "light"
     },
     "output_type": "display_data"
    }
   ],
   "source": [
    "# Plot the distribution of age for those who showed up\n",
    "showed = df.query('no_show == \"Showed\"')\n",
    "showed_ages = showed['age']\n",
    "showed_ages.name = 'Age distribution'\n",
    "showed_ages.plot(kind='hist', alpha=0.5, figsize=(8,5))\n",
    "plt.legend()\n",
    "plt.title('Distribution of patient age for patients that showed to their appointments')\n",
    "plt.ylabel('Count')\n",
    "plt.xlabel('Age')\n",
    "plt.show();"
   ]
  },
  {
   "cell_type": "markdown",
   "metadata": {},
   "source": [
    "Above visualization shows a high count of children and teens, almost as high as the group of patients aged 60 plus. To simplify the evaluation, the patient ages are divided into the following groups: '0 to 10', '11 to 19', '20 to 39', '40 to 59', '60+'. "
   ]
  },
  {
   "cell_type": "code",
   "execution_count": 84,
   "metadata": {},
   "outputs": [
    {
     "data": {
      "text/html": [
       "<div>\n",
       "<style scoped>\n",
       "    .dataframe tbody tr th:only-of-type {\n",
       "        vertical-align: middle;\n",
       "    }\n",
       "\n",
       "    .dataframe tbody tr th {\n",
       "        vertical-align: top;\n",
       "    }\n",
       "\n",
       "    .dataframe thead th {\n",
       "        text-align: right;\n",
       "    }\n",
       "</style>\n",
       "<table border=\"1\" class=\"dataframe\">\n",
       "  <thead>\n",
       "    <tr style=\"text-align: right;\">\n",
       "      <th></th>\n",
       "      <th>patient_id</th>\n",
       "      <th>appointment_id</th>\n",
       "      <th>gender</th>\n",
       "      <th>scheduled_day</th>\n",
       "      <th>appointment_day</th>\n",
       "      <th>age</th>\n",
       "      <th>neighbourhood</th>\n",
       "      <th>scholarship</th>\n",
       "      <th>hypertension</th>\n",
       "      <th>diabetes</th>\n",
       "      <th>alcoholism</th>\n",
       "      <th>handicap</th>\n",
       "      <th>sms_received</th>\n",
       "      <th>no_show</th>\n",
       "      <th>age_group</th>\n",
       "    </tr>\n",
       "  </thead>\n",
       "  <tbody>\n",
       "    <tr>\n",
       "      <th>18143</th>\n",
       "      <td>2479876231816</td>\n",
       "      <td>5688966</td>\n",
       "      <td>F</td>\n",
       "      <td>2016-05-12</td>\n",
       "      <td>2016-05-12</td>\n",
       "      <td>58</td>\n",
       "      <td>SANTA MARTHA</td>\n",
       "      <td>0</td>\n",
       "      <td>0</td>\n",
       "      <td>0</td>\n",
       "      <td>0</td>\n",
       "      <td>0</td>\n",
       "      <td>0</td>\n",
       "      <td>Showed</td>\n",
       "      <td>40 to 59</td>\n",
       "    </tr>\n",
       "    <tr>\n",
       "      <th>11855</th>\n",
       "      <td>4716263131813</td>\n",
       "      <td>5722683</td>\n",
       "      <td>M</td>\n",
       "      <td>2016-05-20</td>\n",
       "      <td>2016-05-20</td>\n",
       "      <td>66</td>\n",
       "      <td>REDENÇÃO</td>\n",
       "      <td>0</td>\n",
       "      <td>1</td>\n",
       "      <td>0</td>\n",
       "      <td>0</td>\n",
       "      <td>0</td>\n",
       "      <td>0</td>\n",
       "      <td>Showed</td>\n",
       "      <td>60+</td>\n",
       "    </tr>\n",
       "    <tr>\n",
       "      <th>84126</th>\n",
       "      <td>5186247767215</td>\n",
       "      <td>5780962</td>\n",
       "      <td>M</td>\n",
       "      <td>2016-06-07</td>\n",
       "      <td>2016-06-07</td>\n",
       "      <td>4</td>\n",
       "      <td>RESISTÊNCIA</td>\n",
       "      <td>0</td>\n",
       "      <td>0</td>\n",
       "      <td>0</td>\n",
       "      <td>0</td>\n",
       "      <td>0</td>\n",
       "      <td>0</td>\n",
       "      <td>Showed</td>\n",
       "      <td>0 to 10</td>\n",
       "    </tr>\n",
       "    <tr>\n",
       "      <th>1456</th>\n",
       "      <td>283778519653868</td>\n",
       "      <td>5642306</td>\n",
       "      <td>M</td>\n",
       "      <td>2016-04-29</td>\n",
       "      <td>2016-04-29</td>\n",
       "      <td>51</td>\n",
       "      <td>VILA RUBIM</td>\n",
       "      <td>0</td>\n",
       "      <td>0</td>\n",
       "      <td>0</td>\n",
       "      <td>0</td>\n",
       "      <td>0</td>\n",
       "      <td>0</td>\n",
       "      <td>Showed</td>\n",
       "      <td>40 to 59</td>\n",
       "    </tr>\n",
       "    <tr>\n",
       "      <th>64919</th>\n",
       "      <td>32676433343</td>\n",
       "      <td>5542757</td>\n",
       "      <td>F</td>\n",
       "      <td>2016-04-05</td>\n",
       "      <td>2016-05-19</td>\n",
       "      <td>68</td>\n",
       "      <td>JARDIM CAMBURI</td>\n",
       "      <td>0</td>\n",
       "      <td>0</td>\n",
       "      <td>0</td>\n",
       "      <td>0</td>\n",
       "      <td>0</td>\n",
       "      <td>0</td>\n",
       "      <td>Showed</td>\n",
       "      <td>60+</td>\n",
       "    </tr>\n",
       "  </tbody>\n",
       "</table>\n",
       "</div>"
      ],
      "text/plain": [
       "            patient_id  appointment_id gender scheduled_day appointment_day  \\\n",
       "18143    2479876231816         5688966      F    2016-05-12      2016-05-12   \n",
       "11855    4716263131813         5722683      M    2016-05-20      2016-05-20   \n",
       "84126    5186247767215         5780962      M    2016-06-07      2016-06-07   \n",
       "1456   283778519653868         5642306      M    2016-04-29      2016-04-29   \n",
       "64919      32676433343         5542757      F    2016-04-05      2016-05-19   \n",
       "\n",
       "       age   neighbourhood  scholarship  hypertension  diabetes  alcoholism  \\\n",
       "18143   58    SANTA MARTHA            0             0         0           0   \n",
       "11855   66        REDENÇÃO            0             1         0           0   \n",
       "84126    4     RESISTÊNCIA            0             0         0           0   \n",
       "1456    51      VILA RUBIM            0             0         0           0   \n",
       "64919   68  JARDIM CAMBURI            0             0         0           0   \n",
       "\n",
       "       handicap  sms_received no_show age_group  \n",
       "18143         0             0  Showed  40 to 59  \n",
       "11855         0             0  Showed       60+  \n",
       "84126         0             0  Showed   0 to 10  \n",
       "1456          0             0  Showed  40 to 59  \n",
       "64919         0             0  Showed       60+  "
      ]
     },
     "execution_count": 84,
     "metadata": {},
     "output_type": "execute_result"
    }
   ],
   "source": [
    "# Bin edges used for cutting the data into groups\n",
    "age_edges = [-1, 10, 19, 39, 59, 115] \n",
    "\n",
    "# Labels for the age groups\n",
    "age_labels = ['0 to 10', '11 to 19', '20 to 39', '40 to 59', '60+']\n",
    "\n",
    "# Creating age group column\n",
    "df['age_group'] = pd.cut(df['age'], age_edges, labels=age_labels)\n",
    "\n",
    "# Checking for successful creation of this column\n",
    "df.sample(5)"
   ]
  },
  {
   "cell_type": "markdown",
   "metadata": {},
   "source": [
    "After creating the age groups, the proportion of showed patients per age group is visualized. "
   ]
  },
  {
   "cell_type": "code",
   "execution_count": 85,
   "metadata": {},
   "outputs": [
    {
     "name": "stdout",
     "output_type": "stream",
     "text": [
      "age_group\n",
      "0 to 10     0.797963\n",
      "11 to 19    0.746784\n",
      "20 to 39    0.768618\n",
      "40 to 59    0.811918\n",
      "60+         0.846880\n",
      "dtype: float64\n"
     ]
    },
    {
     "data": {
      "image/png": "[encoded data removed]",
      "text/plain": [
       "<Figure size 432x288 with 1 Axes>"
      ]
     },
     "metadata": {
      "needs_background": "light"
     },
     "output_type": "display_data"
    }
   ],
   "source": [
    "# Calculating ratios\n",
    "df_age_ratio = df[df.no_show == 'Showed'].groupby(['age_group']).size()/df.groupby(['age_group']).size()\n",
    "\n",
    "# Plotting the difference\n",
    "ax = sns.barplot(x=df_age_ratio.index, y=df_age_ratio)\n",
    "print(df_age_ratio)\n",
    "ax.set_title(\"Proportion of showed patients by age group\")\n",
    "plt.ylabel('Proportion of patients')\n",
    "plt.xlabel('Age group')\n",
    "plt.show();"
   ]
  },
  {
   "cell_type": "markdown",
   "metadata": {},
   "source": [
    "Almost 80% of children show to their appointments, but only around 75% of teenagers. In the increasing age groups, the attendance increases, with 20 to 39 at 77%, 40 to 59 at 81%, and 60+ at 85%. \n",
    "\n",
    "How does the showed up proportion look like, when influence of scholarship membership and age group are mixed? "
   ]
  },
  {
   "cell_type": "code",
   "execution_count": 86,
   "metadata": {},
   "outputs": [],
   "source": [
    "# Creating masks for age groups\n",
    "child = df.query('age_group == \"0 to 10\"')\n",
    "teen = df.query('age_group == \"11 to 19\"')\n",
    "twenty_plus = df.query('age_group == \"20 to 39\"')\n",
    "forty_plus = df.query('age_group == \"40 to 59\"')\n",
    "sixty_plus = df.query('age_group == \"60+\"')\n",
    "\n",
    "# Creating masks for showed patients with and without scholarship\n",
    "child_scholarship = child.query('scholarship == 1')\n",
    "child_no_scholarship = child.query('scholarship == 0')\n",
    "teen_scholarship = teen.query('scholarship == 1')\n",
    "teen_no_scholarship = teen.query('scholarship == 0')\n",
    "twenty_plus_scholarship = twenty_plus.query('scholarship == 1')\n",
    "twenty_plus_no_scholarship = twenty_plus.query('scholarship == 0')\n",
    "forty_plus_scholarship = forty_plus.query('scholarship == 1')\n",
    "forty_plus_no_scholarship = forty_plus.query('scholarship == 0')\n",
    "sixty_plus_scholarship = sixty_plus.query('scholarship == 1')\n",
    "sixty_plus_no_scholarship = sixty_plus.query('scholarship == 0')\n",
    "\n",
    "# Getting counts for distribution of scholarship membership by age group\n",
    "child_scholarship_showed = child_scholarship.groupby('no_show')['appointment_id'].count()\n",
    "child_no_scholarship_showed = child_no_scholarship.groupby('no_show')['appointment_id'].count()\n",
    "teen_scholarship_showed = teen_scholarship.groupby('no_show')['appointment_id'].count()\n",
    "teen_no_scholarship_showed = teen_no_scholarship.groupby('no_show')['appointment_id'].count()\n",
    "twenty_plus_scholarship_showed = twenty_plus_scholarship.groupby('no_show')['appointment_id'].count()\n",
    "twenty_plus_no_scholarship_showed = twenty_plus_no_scholarship.groupby('no_show')['appointment_id'].count()\n",
    "forty_plus_scholarship_showed = forty_plus_scholarship.groupby('no_show')['appointment_id'].count()\n",
    "forty_plus_no_scholarship_showed = forty_plus_no_scholarship.groupby('no_show')['appointment_id'].count()\n",
    "sixty_plus_scholarship_showed = sixty_plus_scholarship.groupby('no_show')['appointment_id'].count()\n",
    "sixty_plus_no_scholarship_showed = sixty_plus_no_scholarship.groupby('no_show')['appointment_id'].count()\n",
    "\n",
    "# Getting proportions of appointments were patients showed for each age group\n",
    "child_scholarship_showed_proportion = child_scholarship_showed/child_scholarship_showed.sum()\n",
    "child_no_scholarship_showed_proportion = child_no_scholarship_showed/child_no_scholarship_showed.sum()\n",
    "teen_scholarship_showed_proportion = teen_scholarship_showed/teen_scholarship_showed.sum()\n",
    "teen_no_scholarship_showed_proportion = teen_no_scholarship_showed/teen_no_scholarship_showed.sum()\n",
    "twenty_plus_scholarship_showed_proportion = twenty_plus_scholarship_showed/twenty_plus_scholarship_showed.sum()\n",
    "twenty_plus_no_scholarship_showed_proportion = twenty_plus_no_scholarship_showed/twenty_plus_no_scholarship_showed.sum()\n",
    "forty_plus_scholarship_showed_proportion = forty_plus_scholarship_showed/forty_plus_scholarship_showed.sum()\n",
    "forty_plus_no_scholarship_showed_proportion = forty_plus_no_scholarship_showed/forty_plus_no_scholarship_showed.sum()\n",
    "sixty_plus_scholarship_showed_proportion = sixty_plus_scholarship_showed/sixty_plus_scholarship_showed.sum()\n",
    "sixty_plus_no_scholarship_showed_proportion = sixty_plus_no_scholarship_showed/sixty_plus_no_scholarship_showed.sum()\n",
    "\n",
    "# Create a dataframe containing both proportions together\n",
    "scholarship_age_showed_proportion_df = pd.DataFrame({\n",
    "    'Scholarship': [child_scholarship_showed_proportion['Showed'], teen_scholarship_showed_proportion['Showed'], twenty_plus_scholarship_showed_proportion['Showed'], forty_plus_scholarship_showed_proportion['Showed'], sixty_plus_scholarship_showed_proportion['Showed']],\n",
    "    'No Scholarship': [child_no_scholarship_showed_proportion['Showed'], teen_no_scholarship_showed_proportion['Showed'], twenty_plus_no_scholarship_showed_proportion['Showed'], forty_plus_no_scholarship_showed_proportion['Showed'], sixty_plus_no_scholarship_showed_proportion['Showed']]}, \n",
    "    index=['0 to 10', '11 to 19', '20 to 39', '40 to 59', '60+'])"
   ]
  },
  {
   "cell_type": "markdown",
   "metadata": {},
   "source": [
    "After creating a dataframe of showed proportions for scholarship recipients and non-recipients by age group, the proportions are plotted."
   ]
  },
  {
   "cell_type": "code",
   "execution_count": 87,
   "metadata": {},
   "outputs": [
    {
     "name": "stdout",
     "output_type": "stream",
     "text": [
      "          Scholarship  No Scholarship\n",
      "0 to 10      0.770903        0.800826\n",
      "11 to 19     0.734491        0.748756\n",
      "20 to 39     0.750796        0.771552\n",
      "40 to 59     0.774263        0.815757\n",
      "60+          0.841216        0.847043\n"
     ]
    },
    {
     "data": {
      "image/png": "[encoded data removed]",
      "text/plain": [
       "<Figure size 576x432 with 1 Axes>"
      ]
     },
     "metadata": {
      "needs_background": "light"
     },
     "output_type": "display_data"
    }
   ],
   "source": [
    "# Plot the proportion\n",
    "scholarship_age_showed_proportion_df.plot(kind='bar', alpha=0.70, figsize=(8,6))\n",
    "print(scholarship_age_showed_proportion_df)\n",
    "plt.legend()\n",
    "plt.title('Proportion of showed patients by age')\n",
    "plt.ylabel('Proportion')\n",
    "plt.xlabel('Age group')\n",
    "plt.xticks(rotation=0)\n",
    "plt.show();"
   ]
  },
  {
   "cell_type": "markdown",
   "metadata": {},
   "source": [
    "Overall, it is still visible, that scholarship recipients showed less often at appointments than non-recipients. \n",
    "\n",
    "At the same time, the differences in showed proportions for scholarship recipients and non-recipients were higher or lower in different age intervals. In the age group of 40 to 59, the delta is at around 4%, and thereby closest to the delta of all scholarship recipients vs non-recipients. Next, there are around 3% and around 2% in the age group of 0 to 10 and 20 to 39. In the age group with the lowest overall showed rate (teenagers) and highest overall showed rate (60+), the difference between scholarship recipients and non-recipients in relation to showing at appointments has been lowest. "
   ]
  },
  {
   "cell_type": "markdown",
   "metadata": {},
   "source": [
    "#### Does the difference in showed percentage for scholarship and non-scholarship recipients hold up for SMS receival vs no SMS receival?"
   ]
  },
  {
   "cell_type": "markdown",
   "metadata": {},
   "source": [
    "Lastly, the two independent variables *scholarship* and *sms_received* are mixed, and their joint influence on *no-show* is evaluated."
   ]
  },
  {
   "cell_type": "code",
   "execution_count": 88,
   "metadata": {},
   "outputs": [],
   "source": [
    "# Creating masks for sms receival\n",
    "sms = df.query('sms_received == 1')\n",
    "no_sms = df.query('sms_received == 0')\n",
    "\n",
    "# Creating masks for distribution of scholarship membership by gender\n",
    "sms_scholarship = sms.query('scholarship == 1')\n",
    "sms_no_scholarship = sms.query('scholarship == 0')\n",
    "no_sms_scholarship = no_sms.query('scholarship == 1')\n",
    "no_sms_no_scholarship = no_sms.query('scholarship == 0')\n",
    "\n",
    "# Getting counts for distribution of scholarship membership by gender\n",
    "sms_scholarship_showed = sms_scholarship.groupby('no_show')['appointment_id'].count()\n",
    "sms_no_scholarship_showed = sms_no_scholarship.groupby('no_show')['appointment_id'].count()\n",
    "no_sms_scholarship_showed = no_sms_scholarship.groupby('no_show')['appointment_id'].count()\n",
    "no_sms_no_scholarship_showed = no_sms_no_scholarship.groupby('no_show')['appointment_id'].count()\n",
    "\n",
    "# Getting proportions of appointments were patients showed for each gender\n",
    "sms_scholarship_showed_proportion = sms_scholarship_showed/sms_scholarship_showed.sum()\n",
    "sms_no_scholarship_showed_proportion = sms_no_scholarship_showed/sms_no_scholarship_showed.sum()\n",
    "no_sms_scholarship_showed_proportion = no_sms_scholarship_showed/no_sms_scholarship_showed.sum()\n",
    "no_sms_no_scholarship_showed_proportion = no_sms_no_scholarship_showed/no_sms_no_scholarship_showed.sum()\n",
    "\n",
    "# Create a dataframe containing both proportions together\n",
    "scholarship_sms_showed_proportion_df = pd.DataFrame({\n",
    "    'Scholarship': [sms_scholarship_showed_proportion['Showed'], no_sms_scholarship_showed_proportion['Showed']],\n",
    "    'No Scholarship': [sms_no_scholarship_showed_proportion['Showed'], no_sms_no_scholarship_showed_proportion['Showed']]}, \n",
    "    index=['SMS', 'No SMS'])"
   ]
  },
  {
   "cell_type": "markdown",
   "metadata": {},
   "source": [
    "After creating a dataframe of showed proportions for scholarship recipients and non-recipients by sms receival, the proportions are plotted."
   ]
  },
  {
   "cell_type": "code",
   "execution_count": 89,
   "metadata": {},
   "outputs": [
    {
     "name": "stdout",
     "output_type": "stream",
     "text": [
      "        Scholarship  No Scholarship\n",
      "SMS        0.662197        0.731057\n",
      "No SMS     0.810495        0.835407\n"
     ]
    },
    {
     "data": {
      "image/png": "[encoded data removed]",
      "text/plain": [
       "<Figure size 576x360 with 1 Axes>"
      ]
     },
     "metadata": {
      "needs_background": "light"
     },
     "output_type": "display_data"
    }
   ],
   "source": [
    "# Plot the proportion\n",
    "scholarship_sms_showed_proportion_df.plot(kind='bar', alpha=0.70, figsize=(8,5))\n",
    "print(scholarship_sms_showed_proportion_df)\n",
    "plt.legend()\n",
    "plt.title('Proportion of showed patients by SMS receival')\n",
    "plt.ylabel('Proportion')\n",
    "plt.xlabel('SMS receival')\n",
    "plt.xticks(rotation=0)\n",
    "plt.show();"
   ]
  },
  {
   "cell_type": "markdown",
   "metadata": {},
   "source": [
    "Overall, SMS recipients had lower proportions of showing to appointments. The combination of having a scholarship and an SMS reminder had the lowest proportion of showed patients (ca. 66%), no SMS and no scholarship the highest proportion (ca. 83,5%). For non-SMS recipients, the difference between showed proportions for scholarship recipients and non-recipients (ca. 2,5%) has been a lot lower than for SMS recipients (ca. 7%). \n",
    "\n",
    "*sms_received* seems to be connected to showed up proportions. In the next research question, this characteristic is going to be evaluated further. "
   ]
  },
  {
   "cell_type": "markdown",
   "metadata": {},
   "source": [
    "<a id='RQ2'></a>\n",
    "### Research Question 2: Are SMS notified patients more, less or equally likely to show up to their appointment than non-notified patients?"
   ]
  },
  {
   "cell_type": "markdown",
   "metadata": {},
   "source": [
    "For ca. 32% of the appointments, patients received SMS reminders. Could the receival of an SMS reminder influence the likelihood of patients showing to appointments?"
   ]
  },
  {
   "cell_type": "code",
   "execution_count": 90,
   "metadata": {},
   "outputs": [
    {
     "data": {
      "image/png": "[encoded data removed]",
      "text/plain": [
       "<Figure size 432x288 with 1 Axes>"
      ]
     },
     "metadata": {
      "needs_background": "light"
     },
     "output_type": "display_data"
    }
   ],
   "source": [
    "# Plotting the distribution of showed vs no-show for patients that received SMS-notification and those that didn't\n",
    "ax = sns.countplot(x=df.sms_received, hue=df.no_show, data=df)\n",
    "ax.set_title(\"Showed vs. No-show in relation to reminder SMS\")\n",
    "x_ticks_labels=['No SMS received', 'SMS received']\n",
    "ax.set_xticklabels(x_ticks_labels)\n",
    "plt.ylabel('Patient count')\n",
    "plt.xlabel('SMS receival')\n",
    "plt.show()"
   ]
  },
  {
   "cell_type": "markdown",
   "metadata": {},
   "source": [
    "Again, a graph of showed proportions is plotted, to directly compare the proportion of patients that showed to their appointment with or without sms."
   ]
  },
  {
   "cell_type": "code",
   "execution_count": 123,
   "metadata": {},
   "outputs": [
    {
     "name": "stdout",
     "output_type": "stream",
     "text": [
      "sms_received\n",
      "0    0.832965\n",
      "1    0.724255\n",
      "dtype: float64\n"
     ]
    },
    {
     "data": {
      "image/png": "[encoded data removed]",
      "text/plain": [
       "<Figure size 432x288 with 1 Axes>"
      ]
     },
     "metadata": {
      "needs_background": "light"
     },
     "output_type": "display_data"
    }
   ],
   "source": [
    "# Percentage of appointments, where the patient showed and received an SMS reminder or not\n",
    "df_sms_ratio = df[df.no_show == 'Showed'].groupby(['sms_received']).size()/df.groupby(['sms_received']).size()\n",
    "print(df_sms_ratio)\n",
    "\n",
    "# Plot the difference\n",
    "ax = sns.barplot(x=df_sms_ratio.index, y=df_sms_ratio)\n",
    "ax.set_title(\"Proportion of showed patients in relation to SMS receival\")\n",
    "x_ticks_labels=['No SMS', 'SMS']\n",
    "ax.set_xticklabels(x_ticks_labels)\n",
    "plt.ylabel('Proportion of patients')\n",
    "plt.xlabel('SMS receival')\n",
    "plt.show()"
   ]
  },
  {
   "cell_type": "markdown",
   "metadata": {},
   "source": [
    "As expected due to the results from RQ1's SMS receival plot, appointments with patients without receival of SMS reminders had a higher show-rate than appointments with patients that received SMS reminders. The proportion of showed patients without SMS reminder is almost 11% higher than the ones without SMS reminders.\n",
    "\n",
    "Until now, only  *sms_received* and *no_show* have been evaluated together. Do the results hold, if other independent variables are mixed in? In the following steps, the influence of *age*, *diabetes* and *hypertension* on sms recipients' and no sms recipients' showed percentage at appointments are evaluated. "
   ]
  },
  {
   "cell_type": "markdown",
   "metadata": {},
   "source": [
    "#### Does the difference in showed percentage for SMS and non-SMS recipients hold up for different age groups?"
   ]
  },
  {
   "cell_type": "markdown",
   "metadata": {},
   "source": [
    "How does the showed up proportion look like, when influence of sms receival and age group are mixed?"
   ]
  },
  {
   "cell_type": "code",
   "execution_count": 104,
   "metadata": {},
   "outputs": [],
   "source": [
    "# Creating masks for showed patients with and without sms\n",
    "child_sms = child.query('sms_received == 1')\n",
    "child_no_sms = child.query('sms_received  == 0')\n",
    "teen_sms = teen.query('sms_received  == 1')\n",
    "teen_no_sms = teen.query('sms_received  == 0')\n",
    "twenty_plus_sms = twenty_plus.query('sms_received  == 1')\n",
    "twenty_plus_no_sms = twenty_plus.query('sms_received  == 0')\n",
    "forty_plus_sms = forty_plus.query('sms_received  == 1')\n",
    "forty_plus_no_sms = forty_plus.query('sms_received  == 0')\n",
    "sixty_plus_sms = sixty_plus.query('sms_received  == 1')\n",
    "sixty_plus_no_sms = sixty_plus.query('sms_received  == 0')\n",
    "\n",
    "# Getting counts for distribution of sms receival by age group\n",
    "child_sms_showed = child_sms.groupby('no_show')['appointment_id'].count()\n",
    "child_no_sms_showed = child_no_sms.groupby('no_show')['appointment_id'].count()\n",
    "teen_sms_showed = teen_sms.groupby('no_show')['appointment_id'].count()\n",
    "teen_no_sms_showed = teen_no_sms.groupby('no_show')['appointment_id'].count()\n",
    "twenty_plus_sms_showed = twenty_plus_sms.groupby('no_show')['appointment_id'].count()\n",
    "twenty_plus_no_sms_showed = twenty_plus_no_sms.groupby('no_show')['appointment_id'].count()\n",
    "forty_plus_sms_showed = forty_plus_sms.groupby('no_show')['appointment_id'].count()\n",
    "forty_plus_no_sms_showed = forty_plus_no_sms.groupby('no_show')['appointment_id'].count()\n",
    "sixty_plus_sms_showed = sixty_plus_sms.groupby('no_show')['appointment_id'].count()\n",
    "sixty_plus_no_sms_showed = sixty_plus_no_sms.groupby('no_show')['appointment_id'].count()\n",
    "\n",
    "# Getting proportions of appointments were patients showed for each age group\n",
    "child_sms_showed_proportion = child_sms_showed/child_sms_showed.sum()\n",
    "child_no_sms_showed_proportion = child_no_sms_showed/child_no_sms_showed.sum()\n",
    "teen_sms_showed_proportion = teen_sms_showed/teen_sms_showed.sum()\n",
    "teen_no_sms_showed_proportion = teen_no_sms_showed/teen_no_sms_showed.sum()\n",
    "twenty_plus_sms_showed_proportion = twenty_plus_sms_showed/twenty_plus_sms_showed.sum()\n",
    "twenty_plus_no_sms_showed_proportion = twenty_plus_no_sms_showed/twenty_plus_no_sms_showed.sum()\n",
    "forty_plus_sms_showed_proportion = forty_plus_sms_showed/forty_plus_sms_showed.sum()\n",
    "forty_plus_no_sms_showed_proportion = forty_plus_no_sms_showed/forty_plus_no_sms_showed.sum()\n",
    "sixty_plus_sms_showed_proportion = sixty_plus_sms_showed/sixty_plus_sms_showed.sum()\n",
    "sixty_plus_no_sms_showed_proportion = sixty_plus_no_sms_showed/sixty_plus_no_sms_showed.sum()\n",
    "\n",
    "# Create a dataframe containing both proportions together\n",
    "sms_age_showed_proportion_df = pd.DataFrame({\n",
    "    'SMS': [child_sms_showed_proportion['Showed'], teen_sms_showed_proportion['Showed'], twenty_plus_sms_showed_proportion['Showed'], forty_plus_sms_showed_proportion['Showed'], sixty_plus_sms_showed_proportion['Showed']],\n",
    "    'No SMS': [child_no_sms_showed_proportion['Showed'], teen_no_sms_showed_proportion['Showed'], twenty_plus_no_sms_showed_proportion['Showed'], forty_plus_no_sms_showed_proportion['Showed'], sixty_plus_no_sms_showed_proportion['Showed']]}, \n",
    "    index=['0 to 10', '11 to 19', '20 to 39', '40 to 59', '60+'])"
   ]
  },
  {
   "cell_type": "markdown",
   "metadata": {},
   "source": [
    "After creating a dataframe of showed proportions for SMS recipients and non-recipients by age group, the proportions are plotted."
   ]
  },
  {
   "cell_type": "code",
   "execution_count": 106,
   "metadata": {
    "scrolled": false
   },
   "outputs": [
    {
     "name": "stdout",
     "output_type": "stream",
     "text": [
      "               SMS    No SMS\n",
      "0 to 10   0.710521  0.833584\n",
      "11 to 19  0.660734  0.784290\n",
      "20 to 39  0.669202  0.820190\n",
      "40 to 59  0.753019  0.841355\n",
      "60+       0.807779  0.864718\n"
     ]
    },
    {
     "data": {
      "image/png": "[encoded data removed]",
      "text/plain": [
       "<Figure size 576x360 with 1 Axes>"
      ]
     },
     "metadata": {
      "needs_background": "light"
     },
     "output_type": "display_data"
    }
   ],
   "source": [
    "# Plot the proportion\n",
    "sms_age_showed_proportion_df.plot(kind='bar', alpha=0.70, figsize=(8,5))\n",
    "print(sms_age_showed_proportion_df)\n",
    "plt.legend()\n",
    "plt.title('Proportion of showed patients by age')\n",
    "plt.ylabel('Proportion')\n",
    "plt.xlabel('Age group')\n",
    "plt.xticks(rotation=0)\n",
    "plt.show();"
   ]
  },
  {
   "cell_type": "markdown",
   "metadata": {},
   "source": [
    "Overall, it is still visible, that SMS recipients had lower proportions of showing to appointments than non-recipients. At the same time, the age intervals have differences of how much the proportions differ between the two groups.\n",
    "\n",
    "In the age groups of 0 to 10 and 11 to 19, the delta is at ca. 12%, and thereby closest to the delta of all SMS recipients vs non-recipients. The highest delta between SMS recipients and non-recipients, with around 15%, is at the age of 20 to 39. For patients over 40, the delta decreases to ca. 8%, with the lowest difference of showed proportions for SMS recipients and non-recipients in the age group of 60+ (ca. 6%)."
   ]
  },
  {
   "cell_type": "markdown",
   "metadata": {},
   "source": [
    "#### Does the difference in showed percentage for sms and no sms recipients hold up for patients with health pre-conditions, such as diabetes?"
   ]
  },
  {
   "cell_type": "markdown",
   "metadata": {},
   "source": [
    "Are there differences in showed vs no-show based on suffering from diabetes or not?"
   ]
  },
  {
   "cell_type": "code",
   "execution_count": 108,
   "metadata": {
    "scrolled": true
   },
   "outputs": [
    {
     "name": "stdout",
     "output_type": "stream",
     "text": [
      "diabetes\n",
      "0    0.796370\n",
      "1    0.819967\n",
      "dtype: float64\n"
     ]
    },
    {
     "data": {
      "image/png": "[encoded data removed]",
      "text/plain": [
       "<Figure size 432x288 with 1 Axes>"
      ]
     },
     "metadata": {
      "needs_background": "light"
     },
     "output_type": "display_data"
    }
   ],
   "source": [
    "# Calculating ratios\n",
    "df_diabetes_ratio = df[df.no_show == 'Showed'].groupby(['diabetes']).size()/df.groupby(['diabetes']).size()\n",
    "\n",
    "# Plotting the difference\n",
    "ax = sns.barplot(x=df_diabetes_ratio.index, y=df_diabetes_ratio)\n",
    "print(df_diabetes_ratio)\n",
    "ax.set_title(\"Proportion of showed patients by diabetes status\")\n",
    "plt.ylabel('Proportion of patients')\n",
    "plt.xlabel('Diabetes status')\n",
    "x_ticks_labels=['No Diabetes', 'Diabetes']\n",
    "ax.set_xticklabels(x_ticks_labels)\n",
    "plt.show;"
   ]
  },
  {
   "cell_type": "markdown",
   "metadata": {},
   "source": [
    "From above visualization it seems like patients with diabetes showed up to their appointments in slightly higher proportions than patients without diabetes. But what happens, if the two independent variables *sms_received* and *diabetes* and their joint influence on *no-show* are mixed?"
   ]
  },
  {
   "cell_type": "code",
   "execution_count": 115,
   "metadata": {},
   "outputs": [],
   "source": [
    "# Creating masks for diabetes\n",
    "diabetes = df.query('diabetes == 1')\n",
    "no_diabetes = df.query('diabetes == 0')\n",
    "\n",
    "# Creating masks for showed patients with and without diabetes\n",
    "diabetes_sms = diabetes.query('sms_received == 1')\n",
    "diabetes_no_sms = diabetes.query('sms_received  == 0')\n",
    "no_diabetes_sms = no_diabetes.query('sms_received  == 1')\n",
    "no_diabetes_no_sms = no_diabetes.query('sms_received  == 0')\n",
    "\n",
    "# Getting counts for distribution of sms receival by diabetes status\n",
    "diabetes_sms_showed = diabetes_sms.groupby('no_show')['appointment_id'].count()\n",
    "diabetes_no_sms_showed = diabetes_no_sms.groupby('no_show')['appointment_id'].count()\n",
    "no_diabetes_sms_showed = no_diabetes_sms.groupby('no_show')['appointment_id'].count()\n",
    "no_diabetes_no_sms_showed = no_diabetes_no_sms.groupby('no_show')['appointment_id'].count()\n",
    "\n",
    "# Getting proportions of appointments were patients showed for each age group\n",
    "diabetes_sms_showed_proportion = diabetes_sms_showed/diabetes_sms_showed.sum()\n",
    "diabetes_no_sms_showed_proportion = diabetes_no_sms_showed/diabetes_no_sms_showed.sum()\n",
    "no_diabetes_sms_showed_proportion = no_diabetes_sms_showed/no_diabetes_sms_showed.sum()\n",
    "no_diabetes_no_sms_showed_proportion = no_diabetes_no_sms_showed/no_diabetes_no_sms_showed.sum()\n",
    "\n",
    "# Create a dataframe containing both proportions together\n",
    "sms_diabetes_showed_proportion_df = pd.DataFrame({\n",
    "    'SMS': [diabetes_sms_showed_proportion['Showed'], no_diabetes_sms_showed_proportion['Showed']],\n",
    "    'No SMS': [diabetes_no_sms_showed_proportion['Showed'], no_diabetes_no_sms_showed_proportion['Showed']]}, \n",
    "    index=['Diabetes', 'No Diabetes'])"
   ]
  },
  {
   "cell_type": "markdown",
   "metadata": {},
   "source": [
    "After creating a dataframe of showed proportions for SMS recipients and non-recipients by diabetes diagnosis, the proportions are plotted."
   ]
  },
  {
   "cell_type": "code",
   "execution_count": 126,
   "metadata": {
    "scrolled": true
   },
   "outputs": [
    {
     "name": "stdout",
     "output_type": "stream",
     "text": [
      "                  SMS    No SMS\n",
      "Diabetes     0.769100  0.841418\n",
      "No Diabetes  0.721065  0.832285\n"
     ]
    },
    {
     "data": {
      "image/png": "[encoded data removed]",
      "text/plain": [
       "<Figure size 576x432 with 1 Axes>"
      ]
     },
     "metadata": {
      "needs_background": "light"
     },
     "output_type": "display_data"
    }
   ],
   "source": [
    "# Plot the proportion\n",
    "sms_diabetes_showed_proportion_df.plot(kind='bar', alpha=0.70, figsize=(8,6))\n",
    "print(sms_diabetes_showed_proportion_df)\n",
    "plt.legend()\n",
    "plt.title('Proportion of showed patients by diabetes diagnosis')\n",
    "plt.ylabel('Proportion')\n",
    "plt.xlabel('Diabetes diagnosis')\n",
    "plt.xticks(rotation=0)\n",
    "plt.show();"
   ]
  },
  {
   "cell_type": "markdown",
   "metadata": {},
   "source": [
    "While on average, patients with diabetes showed at their appointments at a higher proportion than those without, patients with no diabetes and no sms reminder showed in higher proportion than patients with diabetes and an SMS reminder. The combination of having no diabetes and an SMS reminder had the lowest proportion of showed patients (ca. 72%), no SMS and diabetes  the highest proportion (ca. 84%). For patients with diabetes, the difference between showed proportions for sms recipients and non-recipients (ca. 8%) has been lower than for patients without diabetes (ca. 11%).\n",
    "\n",
    "How do other health conditions influence showed vs no-show for patients with and without SMS reminder?"
   ]
  },
  {
   "cell_type": "markdown",
   "metadata": {},
   "source": [
    "#### Does the difference in showed percentage for sms and no sms recipients hold up for patients with health pre-conditions, such as hypertension?"
   ]
  },
  {
   "cell_type": "markdown",
   "metadata": {},
   "source": [
    "Are there differences in showed vs no-show based on suffering from hypertension or not?"
   ]
  },
  {
   "cell_type": "code",
   "execution_count": 112,
   "metadata": {
    "scrolled": true
   },
   "outputs": [
    {
     "name": "stdout",
     "output_type": "stream",
     "text": [
      "hypertension\n",
      "0    0.790961\n",
      "1    0.826980\n",
      "dtype: float64\n"
     ]
    },
    {
     "data": {
      "image/png": "[encoded data removed]",
      "text/plain": [
       "<Figure size 432x288 with 1 Axes>"
      ]
     },
     "metadata": {
      "needs_background": "light"
     },
     "output_type": "display_data"
    }
   ],
   "source": [
    "# Calculating ratios\n",
    "df_hypertension_ratio = df[df.no_show == 'Showed'].groupby(['hypertension']).size()/df.groupby(['hypertension']).size()\n",
    "\n",
    "# Plotting the difference\n",
    "ax = sns.barplot(x=df_hypertension_ratio.index, y=df_hypertension_ratio)\n",
    "print(df_hypertension_ratio)\n",
    "ax.set_title(\"Proportion of showed patients by hypertension status\")\n",
    "plt.ylabel('Proportion of patients')\n",
    "plt.xlabel('Hypertension status')\n",
    "x_ticks_labels=['No Hypertension', 'Hypertension']\n",
    "ax.set_xticklabels(x_ticks_labels)\n",
    "plt.show;"
   ]
  },
  {
   "cell_type": "markdown",
   "metadata": {},
   "source": [
    "From above visualization it seems like patients with diabetes showed up to their appointments in slightly higher proportions than patients without hypertension. But what happens, if the two independent variables *sms_received* and *diabetes* and their joint influence on *no_show* are mixed?"
   ]
  },
  {
   "cell_type": "code",
   "execution_count": 118,
   "metadata": {},
   "outputs": [],
   "source": [
    "# Creating masks for hypertension\n",
    "hypertension = df.query('hypertension == 1')\n",
    "no_hypertension = df.query('hypertension == 0')\n",
    "\n",
    "# Creating masks for showed patients with and without hypertension\n",
    "hypertension_sms = hypertension.query('sms_received == 1')\n",
    "hypertension_no_sms = hypertension.query('sms_received  == 0')\n",
    "no_hypertension_sms = no_hypertension.query('sms_received  == 1')\n",
    "no_hypertension_no_sms = no_hypertension.query('sms_received  == 0')\n",
    "\n",
    "# Getting counts for distribution of sms receival by hypertension status\n",
    "hypertension_sms_showed = hypertension_sms.groupby('no_show')['appointment_id'].count()\n",
    "hypertension_no_sms_showed = hypertension_no_sms.groupby('no_show')['appointment_id'].count()\n",
    "no_hypertension_sms_showed = no_hypertension_sms.groupby('no_show')['appointment_id'].count()\n",
    "no_hypertension_no_sms_showed = no_hypertension_no_sms.groupby('no_show')['appointment_id'].count()\n",
    "\n",
    "# Getting proportions of appointments were patients showed for each age group\n",
    "hypertension_sms_showed_proportion = hypertension_sms_showed/hypertension_sms_showed.sum()\n",
    "hypertension_no_sms_showed_proportion = hypertension_no_sms_showed/hypertension_no_sms_showed.sum()\n",
    "no_hypertension_sms_showed_proportion = no_hypertension_sms_showed/no_hypertension_sms_showed.sum()\n",
    "no_hypertension_no_sms_showed_proportion = no_hypertension_no_sms_showed/no_hypertension_no_sms_showed.sum()\n",
    "\n",
    "# Create a dataframe containing both proportions together\n",
    "sms_hypertension_showed_proportion_df = pd.DataFrame({\n",
    "    'SMS': [hypertension_sms_showed_proportion['Showed'], no_hypertension_sms_showed_proportion['Showed']],\n",
    "    'No SMS': [hypertension_no_sms_showed_proportion['Showed'], no_hypertension_no_sms_showed_proportion['Showed']]}, \n",
    "    index=['Hypertension', 'No Hypertension'])"
   ]
  },
  {
   "cell_type": "markdown",
   "metadata": {},
   "source": [
    "After creating a dataframe of showed proportions for SMS recipients and non-recipients by hypertension diagnosis, the proportions are plotted."
   ]
  },
  {
   "cell_type": "code",
   "execution_count": 119,
   "metadata": {
    "scrolled": true
   },
   "outputs": [
    {
     "name": "stdout",
     "output_type": "stream",
     "text": [
      "                      SMS    No SMS\n",
      "Hypertension     0.775109  0.850847\n",
      "No Hypertension  0.712044  0.828523\n"
     ]
    },
    {
     "data": {
      "image/png": "[encoded data removed]",
      "text/plain": [
       "<Figure size 576x432 with 1 Axes>"
      ]
     },
     "metadata": {
      "needs_background": "light"
     },
     "output_type": "display_data"
    }
   ],
   "source": [
    "# Plot the proportion\n",
    "sms_hypertension_showed_proportion_df.plot(kind='bar', alpha=0.70, figsize=(8,6))\n",
    "print(sms_hypertension_showed_proportion_df)\n",
    "plt.legend()\n",
    "plt.title('Proportion of showed patients by hypertension status')\n",
    "plt.ylabel('Proportion')\n",
    "plt.xlabel('Hypertension status')\n",
    "plt.xticks(rotation=0)\n",
    "plt.show();"
   ]
  },
  {
   "cell_type": "markdown",
   "metadata": {},
   "source": [
    "While on average, patients with hypertension showed at their appointments at a higher proportion than those without, patients with no hypertension and no sms reminder showed in higher proportion than patients with hypertension and an SMS reminder. The combination of having no hypertension and an SMS reminder has the lowest proportion of showed patients (ca. 71%), no SMS and hypertension the highest proportion (ca. 85%). For patients with hypertension, the difference between showed proportions for sms recipients and non-recipients (ca. 8%) is lower than for patients without hypertension (ca. 11%).\n",
    "\n",
    "Comparing *hypertension* and *diabetes* mixed with *sms_received* to *no_show*, led to similar results. After evaluating SMS reminders, scholarship membership, age, gender, and two health conditions, the next research question will evaluate another dimension, time. "
   ]
  },
  {
   "cell_type": "markdown",
   "metadata": {},
   "source": [
    "<a id='RQ3'></a>\n",
    "### Research Question 3: Are patients with a shorter waiting time more likely to show up to their appointment?"
   ]
  },
  {
   "cell_type": "markdown",
   "metadata": {},
   "source": [
    "When initially inspecting the dataset, a range of waiting times from schedule day to appointment day from 0 days to several months has been uncovered. Could the duration of this waiting time influence the likelihood of patients to show to their appointments?\n",
    "\n",
    "In a first step, a new column is created, that lists the waiting time in days for each appointment. "
   ]
  },
  {
   "cell_type": "code",
   "execution_count": 92,
   "metadata": {},
   "outputs": [
    {
     "data": {
      "text/html": [
       "<div>\n",
       "<style scoped>\n",
       "    .dataframe tbody tr th:only-of-type {\n",
       "        vertical-align: middle;\n",
       "    }\n",
       "\n",
       "    .dataframe tbody tr th {\n",
       "        vertical-align: top;\n",
       "    }\n",
       "\n",
       "    .dataframe thead th {\n",
       "        text-align: right;\n",
       "    }\n",
       "</style>\n",
       "<table border=\"1\" class=\"dataframe\">\n",
       "  <thead>\n",
       "    <tr style=\"text-align: right;\">\n",
       "      <th></th>\n",
       "      <th>patient_id</th>\n",
       "      <th>appointment_id</th>\n",
       "      <th>gender</th>\n",
       "      <th>scheduled_day</th>\n",
       "      <th>appointment_day</th>\n",
       "      <th>age</th>\n",
       "      <th>neighbourhood</th>\n",
       "      <th>scholarship</th>\n",
       "      <th>hypertension</th>\n",
       "      <th>diabetes</th>\n",
       "      <th>alcoholism</th>\n",
       "      <th>handicap</th>\n",
       "      <th>sms_received</th>\n",
       "      <th>no_show</th>\n",
       "      <th>age_group</th>\n",
       "      <th>waiting_days</th>\n",
       "    </tr>\n",
       "  </thead>\n",
       "  <tbody>\n",
       "    <tr>\n",
       "      <th>110522</th>\n",
       "      <td>2572134369293</td>\n",
       "      <td>5651768</td>\n",
       "      <td>F</td>\n",
       "      <td>2016-05-03</td>\n",
       "      <td>2016-06-07</td>\n",
       "      <td>56</td>\n",
       "      <td>MARIA ORTIZ</td>\n",
       "      <td>0</td>\n",
       "      <td>0</td>\n",
       "      <td>0</td>\n",
       "      <td>0</td>\n",
       "      <td>0</td>\n",
       "      <td>1</td>\n",
       "      <td>Showed</td>\n",
       "      <td>40 to 59</td>\n",
       "      <td>35</td>\n",
       "    </tr>\n",
       "    <tr>\n",
       "      <th>110523</th>\n",
       "      <td>3596266328735</td>\n",
       "      <td>5650093</td>\n",
       "      <td>F</td>\n",
       "      <td>2016-05-03</td>\n",
       "      <td>2016-06-07</td>\n",
       "      <td>51</td>\n",
       "      <td>MARIA ORTIZ</td>\n",
       "      <td>0</td>\n",
       "      <td>0</td>\n",
       "      <td>0</td>\n",
       "      <td>0</td>\n",
       "      <td>0</td>\n",
       "      <td>1</td>\n",
       "      <td>Showed</td>\n",
       "      <td>40 to 59</td>\n",
       "      <td>35</td>\n",
       "    </tr>\n",
       "    <tr>\n",
       "      <th>110524</th>\n",
       "      <td>15576631729893</td>\n",
       "      <td>5630692</td>\n",
       "      <td>F</td>\n",
       "      <td>2016-04-27</td>\n",
       "      <td>2016-06-07</td>\n",
       "      <td>21</td>\n",
       "      <td>MARIA ORTIZ</td>\n",
       "      <td>0</td>\n",
       "      <td>0</td>\n",
       "      <td>0</td>\n",
       "      <td>0</td>\n",
       "      <td>0</td>\n",
       "      <td>1</td>\n",
       "      <td>Showed</td>\n",
       "      <td>20 to 39</td>\n",
       "      <td>41</td>\n",
       "    </tr>\n",
       "    <tr>\n",
       "      <th>110525</th>\n",
       "      <td>92134931435557</td>\n",
       "      <td>5630323</td>\n",
       "      <td>F</td>\n",
       "      <td>2016-04-27</td>\n",
       "      <td>2016-06-07</td>\n",
       "      <td>38</td>\n",
       "      <td>MARIA ORTIZ</td>\n",
       "      <td>0</td>\n",
       "      <td>0</td>\n",
       "      <td>0</td>\n",
       "      <td>0</td>\n",
       "      <td>0</td>\n",
       "      <td>1</td>\n",
       "      <td>Showed</td>\n",
       "      <td>20 to 39</td>\n",
       "      <td>41</td>\n",
       "    </tr>\n",
       "    <tr>\n",
       "      <th>110526</th>\n",
       "      <td>377511518121127</td>\n",
       "      <td>5629448</td>\n",
       "      <td>F</td>\n",
       "      <td>2016-04-27</td>\n",
       "      <td>2016-06-07</td>\n",
       "      <td>54</td>\n",
       "      <td>MARIA ORTIZ</td>\n",
       "      <td>0</td>\n",
       "      <td>0</td>\n",
       "      <td>0</td>\n",
       "      <td>0</td>\n",
       "      <td>0</td>\n",
       "      <td>1</td>\n",
       "      <td>Showed</td>\n",
       "      <td>40 to 59</td>\n",
       "      <td>41</td>\n",
       "    </tr>\n",
       "  </tbody>\n",
       "</table>\n",
       "</div>"
      ],
      "text/plain": [
       "             patient_id  appointment_id gender scheduled_day appointment_day  \\\n",
       "110522    2572134369293         5651768      F    2016-05-03      2016-06-07   \n",
       "110523    3596266328735         5650093      F    2016-05-03      2016-06-07   \n",
       "110524   15576631729893         5630692      F    2016-04-27      2016-06-07   \n",
       "110525   92134931435557         5630323      F    2016-04-27      2016-06-07   \n",
       "110526  377511518121127         5629448      F    2016-04-27      2016-06-07   \n",
       "\n",
       "        age neighbourhood  scholarship  hypertension  diabetes  alcoholism  \\\n",
       "110522   56   MARIA ORTIZ            0             0         0           0   \n",
       "110523   51   MARIA ORTIZ            0             0         0           0   \n",
       "110524   21   MARIA ORTIZ            0             0         0           0   \n",
       "110525   38   MARIA ORTIZ            0             0         0           0   \n",
       "110526   54   MARIA ORTIZ            0             0         0           0   \n",
       "\n",
       "        handicap  sms_received no_show age_group  waiting_days  \n",
       "110522         0             1  Showed  40 to 59            35  \n",
       "110523         0             1  Showed  40 to 59            35  \n",
       "110524         0             1  Showed  20 to 39            41  \n",
       "110525         0             1  Showed  20 to 39            41  \n",
       "110526         0             1  Showed  40 to 59            41  "
      ]
     },
     "execution_count": 92,
     "metadata": {},
     "output_type": "execute_result"
    }
   ],
   "source": [
    "# Creating waiting times column\n",
    "df['waiting_days'] = df.appointment_day - df.scheduled_day\n",
    "df.waiting_days = df.waiting_days.abs().dt.days\n",
    "\n",
    "# Check for successful creation\n",
    "df.tail()"
   ]
  },
  {
   "cell_type": "markdown",
   "metadata": {},
   "source": [
    "By creating a histogram, the distribution of waiting_days can be inspected."
   ]
  },
  {
   "cell_type": "code",
   "execution_count": 93,
   "metadata": {
    "scrolled": true
   },
   "outputs": [
    {
     "data": {
      "image/png": "[encoded data removed]",
      "text/plain": [
       "<Figure size 360x288 with 1 Axes>"
      ]
     },
     "metadata": {
      "needs_background": "light"
     },
     "output_type": "display_data"
    }
   ],
   "source": [
    "df.waiting_days.hist(figsize=(5,4));"
   ]
  },
  {
   "cell_type": "markdown",
   "metadata": {},
   "source": [
    "The distribution is skewed to the right, only few appointments have a waiting time above 25 days. Next, the distribution is inspected more closely using .describe()"
   ]
  },
  {
   "cell_type": "code",
   "execution_count": 94,
   "metadata": {},
   "outputs": [
    {
     "data": {
      "text/plain": [
       "count    110526.000000\n",
       "mean         10.183975\n",
       "std          15.254914\n",
       "min           0.000000\n",
       "25%           0.000000\n",
       "50%           4.000000\n",
       "75%          15.000000\n",
       "max         179.000000\n",
       "Name: waiting_days, dtype: float64"
      ]
     },
     "execution_count": 94,
     "metadata": {},
     "output_type": "execute_result"
    }
   ],
   "source": [
    "df.waiting_days.describe()"
   ]
  },
  {
   "cell_type": "markdown",
   "metadata": {},
   "source": [
    "50% of all appointments have 4 days or less waiting time. 75% have 15 days or less waiting time. The appointment with the longest waiting time has 179 days between scheduling the appointment and the appointment day. To simplify observations about the showed rate, the *waiting_days* column is used as a basis to create a new column with waiting day categories. The categories are \"Same day\", \"Up to 4 days\", \"Up to 15 days\" and \"Up to 179 days\". To successfully create the \"Same Day\" category, -1 is set as the lowest bin edge."
   ]
  },
  {
   "cell_type": "code",
   "execution_count": 95,
   "metadata": {},
   "outputs": [
    {
     "data": {
      "text/html": [
       "<div>\n",
       "<style scoped>\n",
       "    .dataframe tbody tr th:only-of-type {\n",
       "        vertical-align: middle;\n",
       "    }\n",
       "\n",
       "    .dataframe tbody tr th {\n",
       "        vertical-align: top;\n",
       "    }\n",
       "\n",
       "    .dataframe thead th {\n",
       "        text-align: right;\n",
       "    }\n",
       "</style>\n",
       "<table border=\"1\" class=\"dataframe\">\n",
       "  <thead>\n",
       "    <tr style=\"text-align: right;\">\n",
       "      <th></th>\n",
       "      <th>patient_id</th>\n",
       "      <th>appointment_id</th>\n",
       "      <th>gender</th>\n",
       "      <th>scheduled_day</th>\n",
       "      <th>appointment_day</th>\n",
       "      <th>age</th>\n",
       "      <th>neighbourhood</th>\n",
       "      <th>scholarship</th>\n",
       "      <th>hypertension</th>\n",
       "      <th>diabetes</th>\n",
       "      <th>alcoholism</th>\n",
       "      <th>handicap</th>\n",
       "      <th>sms_received</th>\n",
       "      <th>no_show</th>\n",
       "      <th>age_group</th>\n",
       "      <th>waiting_days</th>\n",
       "      <th>waiting_time</th>\n",
       "    </tr>\n",
       "  </thead>\n",
       "  <tbody>\n",
       "    <tr>\n",
       "      <th>23569</th>\n",
       "      <td>394339722693</td>\n",
       "      <td>5542085</td>\n",
       "      <td>F</td>\n",
       "      <td>2016-04-05</td>\n",
       "      <td>2016-05-24</td>\n",
       "      <td>79</td>\n",
       "      <td>DO QUADRO</td>\n",
       "      <td>0</td>\n",
       "      <td>1</td>\n",
       "      <td>0</td>\n",
       "      <td>0</td>\n",
       "      <td>0</td>\n",
       "      <td>1</td>\n",
       "      <td>Showed</td>\n",
       "      <td>60+</td>\n",
       "      <td>49</td>\n",
       "      <td>Up to 179 days</td>\n",
       "    </tr>\n",
       "    <tr>\n",
       "      <th>51618</th>\n",
       "      <td>928177284229892</td>\n",
       "      <td>5710586</td>\n",
       "      <td>F</td>\n",
       "      <td>2016-05-17</td>\n",
       "      <td>2016-05-30</td>\n",
       "      <td>61</td>\n",
       "      <td>CENTRO</td>\n",
       "      <td>0</td>\n",
       "      <td>1</td>\n",
       "      <td>1</td>\n",
       "      <td>0</td>\n",
       "      <td>0</td>\n",
       "      <td>1</td>\n",
       "      <td>Showed</td>\n",
       "      <td>60+</td>\n",
       "      <td>13</td>\n",
       "      <td>Up to 15 days</td>\n",
       "    </tr>\n",
       "    <tr>\n",
       "      <th>26373</th>\n",
       "      <td>4923925417261</td>\n",
       "      <td>5689450</td>\n",
       "      <td>M</td>\n",
       "      <td>2016-05-12</td>\n",
       "      <td>2016-05-12</td>\n",
       "      <td>5</td>\n",
       "      <td>DO MOSCOSO</td>\n",
       "      <td>1</td>\n",
       "      <td>0</td>\n",
       "      <td>0</td>\n",
       "      <td>0</td>\n",
       "      <td>0</td>\n",
       "      <td>0</td>\n",
       "      <td>Showed</td>\n",
       "      <td>0 to 10</td>\n",
       "      <td>0</td>\n",
       "      <td>Same Day</td>\n",
       "    </tr>\n",
       "    <tr>\n",
       "      <th>42307</th>\n",
       "      <td>52143364956635</td>\n",
       "      <td>5731581</td>\n",
       "      <td>M</td>\n",
       "      <td>2016-05-24</td>\n",
       "      <td>2016-05-30</td>\n",
       "      <td>14</td>\n",
       "      <td>JABOUR</td>\n",
       "      <td>0</td>\n",
       "      <td>0</td>\n",
       "      <td>0</td>\n",
       "      <td>0</td>\n",
       "      <td>0</td>\n",
       "      <td>1</td>\n",
       "      <td>Showed</td>\n",
       "      <td>11 to 19</td>\n",
       "      <td>6</td>\n",
       "      <td>Up to 15 days</td>\n",
       "    </tr>\n",
       "    <tr>\n",
       "      <th>17990</th>\n",
       "      <td>831178927165998</td>\n",
       "      <td>5656005</td>\n",
       "      <td>F</td>\n",
       "      <td>2016-05-04</td>\n",
       "      <td>2016-05-04</td>\n",
       "      <td>52</td>\n",
       "      <td>ILHA DAS CAIEIRAS</td>\n",
       "      <td>0</td>\n",
       "      <td>0</td>\n",
       "      <td>0</td>\n",
       "      <td>0</td>\n",
       "      <td>0</td>\n",
       "      <td>0</td>\n",
       "      <td>Showed</td>\n",
       "      <td>40 to 59</td>\n",
       "      <td>0</td>\n",
       "      <td>Same Day</td>\n",
       "    </tr>\n",
       "  </tbody>\n",
       "</table>\n",
       "</div>"
      ],
      "text/plain": [
       "            patient_id  appointment_id gender scheduled_day appointment_day  \\\n",
       "23569     394339722693         5542085      F    2016-04-05      2016-05-24   \n",
       "51618  928177284229892         5710586      F    2016-05-17      2016-05-30   \n",
       "26373    4923925417261         5689450      M    2016-05-12      2016-05-12   \n",
       "42307   52143364956635         5731581      M    2016-05-24      2016-05-30   \n",
       "17990  831178927165998         5656005      F    2016-05-04      2016-05-04   \n",
       "\n",
       "       age      neighbourhood  scholarship  hypertension  diabetes  \\\n",
       "23569   79          DO QUADRO            0             1         0   \n",
       "51618   61             CENTRO            0             1         1   \n",
       "26373    5         DO MOSCOSO            1             0         0   \n",
       "42307   14             JABOUR            0             0         0   \n",
       "17990   52  ILHA DAS CAIEIRAS            0             0         0   \n",
       "\n",
       "       alcoholism  handicap  sms_received no_show age_group  waiting_days  \\\n",
       "23569           0         0             1  Showed       60+            49   \n",
       "51618           0         0             1  Showed       60+            13   \n",
       "26373           0         0             0  Showed   0 to 10             0   \n",
       "42307           0         0             1  Showed  11 to 19             6   \n",
       "17990           0         0             0  Showed  40 to 59             0   \n",
       "\n",
       "         waiting_time  \n",
       "23569  Up to 179 days  \n",
       "51618   Up to 15 days  \n",
       "26373        Same Day  \n",
       "42307   Up to 15 days  \n",
       "17990        Same Day  "
      ]
     },
     "execution_count": 95,
     "metadata": {},
     "output_type": "execute_result"
    }
   ],
   "source": [
    "# Bin edges used for cutting the data into groups\n",
    "waiting_time_edges = [-1, 0, 4, 15, 179] \n",
    "\n",
    "# Labels for the waiting time groups\n",
    "waiting_time_labels = ['Same Day','Up to 4 days','Up to 15 days','Up to 179 days']\n",
    "\n",
    "# Creating waiting time column\n",
    "df['waiting_time'] = pd.cut(df['waiting_days'], waiting_time_edges, labels=waiting_time_labels)\n",
    "\n",
    "# Checking for successful creation of this column\n",
    "df.sample(5)"
   ]
  },
  {
   "cell_type": "markdown",
   "metadata": {},
   "source": [
    "Now, the percentage of appointments, where the patient showed, grouped by *waiting_time* is plotted. "
   ]
  },
  {
   "cell_type": "code",
   "execution_count": 131,
   "metadata": {},
   "outputs": [
    {
     "name": "stdout",
     "output_type": "stream",
     "text": [
      "waiting_time\n",
      "Same Day          0.953529\n",
      "Up to 4 days      0.769943\n",
      "Up to 15 days     0.714591\n",
      "Up to 179 days    0.672941\n",
      "dtype: float64\n"
     ]
    },
    {
     "data": {
      "image/png": "[encoded data removed]",
      "text/plain": [
       "<Figure size 432x288 with 1 Axes>"
      ]
     },
     "metadata": {
      "needs_background": "light"
     },
     "output_type": "display_data"
    }
   ],
   "source": [
    "# Percentage of appointments, where the patient showed, grouped by waiting_time\n",
    "df_waiting_ratio = df[df.no_show == 'Showed'].groupby(['waiting_time']).size()/df.groupby(['waiting_time']).size()\n",
    "print(df_waiting_ratio)\n",
    "\n",
    "# Plot the difference\n",
    "ax = sns.barplot(x=df_waiting_ratio.index, y=df_waiting_ratio)\n",
    "ax.set_title(\"Proportion of showed patients in relation to waiting days\")\n",
    "x_ticks_labels = waiting_time_labels\n",
    "ax.set_xticklabels(x_ticks_labels)\n",
    "plt.ylabel('Proportion of patients')\n",
    "plt.xlabel('Waiting days')\n",
    "plt.show()"
   ]
  },
  {
   "cell_type": "markdown",
   "metadata": {},
   "source": [
    "Same day appointments had the highest proportion of showed patients. With ca. 95% showed patients, the average over all appointments (ca. 80%) is surpassed by far. The categories with increasing waiting days had decreasing proportions of showed patients, with a proportion of showed patients of only 67% for the longest waiting time. Judging from above graph, waiting time in days is correlated to the likelihood of patients showing or not showing to their appointments. "
   ]
  },
  {
   "cell_type": "markdown",
   "metadata": {},
   "source": [
    "<a id='conclusions'></a>\n",
    "## Conclusions\n",
    "\n",
    "This report inspected, cleaned and explored a dataset of information from 100k medical appointments in Brazil. After evaluating a range of patient and appointment characteristics, on whether they are connected to higher or lower no-show rate for patients at their appointments, the initial research questions are revisited and answered. \n",
    "\n",
    "### RQ1: Are patients with healthcare scholarships more, less or equally likely to show up to their appointment than non-recipients? \n",
    "\n",
    "Within this dataset, 9.83% of all patients are part of the Bolsa Familia scholarship. At 79.81% of all appointments, the patient showed.\n",
    "\n",
    "When comparing patients with and without healthcare scholarship, patients without Bolsa Familia scholarship had a slightly higher showed percentage than the average, namely 80.19%. Patients with the scholarship on the other hand, had a lower showed percentage, with only 76.26%. \n",
    "\n",
    "#### Does the difference in showed percentage for scholarship and non-scholarship recipients hold up for different genders?\n",
    "\n",
    "Within this dataset, 65% of all patients are female, 35% are male. 79.69% of female patients showed to their appointments, 80.03% of male patients.\n",
    "\n",
    "When comparing patients with and without healthcare scholarship, there are almost no differences between female and male scholarship recipients (76.21% vs 76.49%). The percentages for non-recipients are equally similar (80.17% and 80.23%). \n",
    "\n",
    "#### Does the difference in showed percentage for scholarship and non-scholarship recipients hold up for different age groups?\n",
    "\n",
    "The median age within this dataset, is 37. 75% of the patients are under 55. The ages range from 0 to 115. For the evaluation, age groups of \"0 to 10\", \"11 to 19\", \"20 to 39\", \"40 to 59\" and \"60+\" were formed. 79.80% of children showed to their appointments, but only 74.68% of teenagers. With increased age, the attendance increased: *20 to 39* at 76.86%, *40 to 59* at 81.19%, and *60+* at 84.69%. \n",
    "\n",
    "When comparing patients with and without healthcare scholarship, the curve of attendance over the age groups is similar, also showing a dip in the age group of 11 to 19. For some age groups, the showed rate of scholarship recipients and non-recipients differs more than for others. \n",
    "\n",
    "In the age group of 40 to 59, the delta is at around 4%, and thereby closest to the difference of showed rates of all scholarship recipients vs non-recipients. Next, there are around 3% and around 2% in the age group of 0 to 10 and 20 to 39. In the age group with the lowest overall showed rate (teenagers) and highest overall showed rate (60+), the difference between scholarship recipients and non-recipients in relation to showing at appointments is lowest. \n",
    "\n",
    "#### Does the difference in showed percentage for scholarship and non-scholarship recipients hold up for sms recipients vs non-recipients?\n",
    "\n",
    "Within this dataset, 32% of all patients received an SMS reminder. 72.42% of SMS recipients showed to their appointments, 83.30% of non-recipients.\n",
    "\n",
    "When comparing patients with and without healthcare scholarship, SMS recipients had lower showed proportions than non-recipients. Patients with scholarship and SMS reminder had the highest no-show rate, patients without scholarship and sms reminder had the lowest.  \n",
    "\n",
    "SMS recipients' showed rate differs by 7% for scholarship recipients and non recipients. For patients without SMS it only differs by 2.5%.\n",
    "\n",
    "### RQ2: Are SMS notified patients more, less or equally likely to show up to their appointment than non-notified patients?\n",
    "\n",
    "As seen above, 72.42% of SMS recipients showed to their appointments, 83.30% of non-recipients.\n",
    "\n",
    "#### Does the difference in showed percentage for sms and no sms recipients recipients hold up for different age groups?\n",
    "\n",
    "Overall, it is still visible, that patients that received an SMS reminder had a higher no-show rate at their appointments. In the age groups of \"0 to 10\" and \"11 to 19\", the difference for SMS vs. no SMS is at ca. 12%, and thereby closest to the delta of all SMS recipients vs non-recipients. The highest delta between SMS recipients and non-recipients, with around 15%, is at the age of 20 to 39. For patients over 40, the delta decreases to ca. 8%, with the lowest difference of showed proportions for SMS recipients and non-recipients in the age group of 60+ (ca. 6%).\n",
    "\n",
    "When comparing SMS recipients' and scholarship recipients' proportions of showing for their appointments over different age groups, SMS recipients vs non recipients (low: 11-19, 66.07%; high: 60+, 86.47%) have a wider range than scholarship recipients vs non-recipients (low: 11-19, 73.45%; high: 60+, 84.70%).\n",
    "\n",
    "#### Does the difference in showed percentage for sms and no sms recipients hold up for patients with health pre-conditions, such as diabetes?\n",
    "\n",
    "Within this dataset, 7.19% of all patients have diabetes. 82% of diabetics showed to their appointments, 79.64% of non-diabetics. \n",
    "\n",
    "When comparing patients with and without sms reminders, diabetics had higher showed proportions than non-diabetics. Patients with SMS reminder and no diabetes had the highest no-show rate, patients without SMS reminder and with diabetes had the lowest.  \n",
    "\n",
    "Diabetics' showed rate differed by 8% for SMS recipients and non recipients. For non-diabetics it differed by 11%.\n",
    "\n",
    "#### Does the difference in showed percentage for sms and no sms recipients hold up for patients with health pre-conditions, such as hypertension?\n",
    "\n",
    "Within this dataset, 19.72% of all patients have hypertension. 82.69% of hypertension patients showed to their appointments, 79.09% of patients without hypertension. \n",
    "\n",
    "When comparing patients with and without sms reminders, hypertension patients had higher showed proportions than patients without hypertension. Patients with SMS reminder and no hypertension had the highest no-show rate, patients without SMS reminder and with hypertension had the lowest.  \n",
    "\n",
    "Hypertension patients' showed rate differed by 8% for SMS recipients and non recipients. For patients without hypertension it differed by 11%.\n",
    "\n",
    "### RQ3:  Are patients with a shorter waiting time more, less or equally likely to show up to their appointment?\n",
    "\n",
    "Same day appointments have the highest proportion of showed patients. With ca. 95% showed patients, the average over all appointments (ca. 80%) is surpassed by far. The categories with increasing waiting days have decreasing proportions of showed patients, with a proportion of showed patients of only 67% for the longest waiting time. \n",
    "\n",
    "### Summary and limitations\n",
    "\n",
    "As this has been an exploration without employing statistical tests, no statistical conclusions can be drawn. Nethertheless, the exploration showed, that segmenting the patients into different groups based on different characteristics, leads to an overview of differing showed vs. no-show rates. \n",
    "\n",
    "Judging from the results of this investigation, *waiting_time*, *sms_receival*, and *scholarship* are most promising for predicting *no-show*, followed by *age*, and then medical conditions. *gender* does not seem relevant. These are hypotheses, that would need to be investigated further. \n",
    "\n",
    "The investigation did not consider a range of other dataset characteristics, e.g. appointment day of the week, amount of appointments per patient, alcoholism or disabilities, or neighborhood location. Also, only a small sample of characteristic combinations has been explored. Therefore, the investigation can be extended in many ways.  "
   ]
  },
  {
   "cell_type": "code",
   "execution_count": null,
   "metadata": {},
   "outputs": [],
   "source": []
  }
 ],
 "metadata": {
  "kernelspec": {
   "display_name": "Python 3",
   "language": "python",
   "name": "python3"
  },
  "language_info": {
   "codemirror_mode": {
    "name": "ipython",
    "version": 3
   },
   "file_extension": ".py",
   "mimetype": "text/x-python",
   "name": "python",
   "nbconvert_exporter": "python",
   "pygments_lexer": "ipython3",
   "version": "3.7.6"
  }
 },
 "nbformat": 4,
 "nbformat_minor": 2
}
